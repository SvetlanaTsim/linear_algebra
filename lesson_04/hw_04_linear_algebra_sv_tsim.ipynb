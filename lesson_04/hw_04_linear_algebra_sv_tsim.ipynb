{
 "cells": [
  {
   "cell_type": "markdown",
   "id": "c436ef8e",
   "metadata": {},
   "source": [
    "# Урок 4"
   ]
  },
  {
   "cell_type": "markdown",
   "id": "0d76ea09",
   "metadata": {},
   "source": [
    "# Системы линейных уравнений. Часть 1"
   ]
  },
  {
   "cell_type": "markdown",
   "id": "2b9e4067",
   "metadata": {},
   "source": [
    "__1.__ Решите систему уравнений методом Гаусса:\n",
    "\n",
    "$$\\begin{cases}\n",
    "x_{1}+x_{2}-x_{3}-2x_{4}=0, \\\\\n",
    "2x_{1}+x_{2}-x_{3}+x_{4}=-2, \\\\\n",
    "x_{1}+x_{2}-3x_{3}+x_{4}=4.\n",
    "\\end{cases}$$"
   ]
  },
  {
   "cell_type": "markdown",
   "id": "53f5749d",
   "metadata": {},
   "source": [
    "__Решение__\n",
    "\n",
    "Запишем расширенную матрицу системы:\n",
    "\n",
    "$$\\begin{pmatrix}\n",
    "\\left.\\begin{matrix}\n",
    "1 & 1 & -1 & -2 \\\\ \n",
    "2 & 1 & -1 & 1 \\\\ \n",
    "1 & 1 & -3 & 1\n",
    "\\end{matrix}\\right|\n",
    "\\begin{matrix}\n",
    "0\\\\ \n",
    "-2\\\\\n",
    "4\n",
    "\\end{matrix}\n",
    "\\end{pmatrix}.$$\n",
    "\n",
    "В системе 4 переменных и 3 уравнения. _Возможно бесконечное множество решений._ \n",
    "\n",
    "Путём элементарных преобразований постараемся привести матрицу к ступенчатому виду.\n",
    "\n"
   ]
  },
  {
   "cell_type": "markdown",
   "id": "5ca7af1e",
   "metadata": {},
   "source": [
    "Из второй строки вычтем первую, умноженную на 2.\n",
    "\n",
    "$$\\begin{pmatrix}\n",
    "\\left.\\begin{matrix}\n",
    "1 & 1 & -1 & -2 \\\\ \n",
    "0 & -1 & 1 & 5 \\\\ \n",
    "1 & 1 & -3 & 1\n",
    "\\end{matrix}\\right|\n",
    "\\begin{matrix}\n",
    "0\\\\ \n",
    "-2\\\\\n",
    "4\n",
    "\\end{matrix}\n",
    "\\end{pmatrix}.$$"
   ]
  },
  {
   "cell_type": "markdown",
   "id": "56d95e44",
   "metadata": {},
   "source": [
    "Из третьей строки вычтем первую.\n",
    "\n",
    "\n",
    "$$\\begin{pmatrix}\n",
    "\\left.\\begin{matrix}\n",
    "1 & 1 & -1 & -2 \\\\ \n",
    "0 & -1 & 1 & 5 \\\\ \n",
    "0 & 0 & -2 & 3\n",
    "\\end{matrix}\\right|\n",
    "\\begin{matrix}\n",
    "0\\\\ \n",
    "-2\\\\\n",
    "4\n",
    "\\end{matrix}\n",
    "\\end{pmatrix}.$$"
   ]
  },
  {
   "cell_type": "markdown",
   "id": "f8eeb706",
   "metadata": {},
   "source": [
    "Оставшаяся матрица соответствует системе:\n",
    "\n",
    "$$\\begin{cases}\n",
    "x_{1}+x_{2}-x_{3} -2x_{4}=0, \\\\\n",
    "~~-x_{2}+x_{3} +5x_{4}=-2, \\\\\n",
    "~~~~-2x_{3}+3x_{4}=4.\n",
    "\\end{cases}$$\n",
    "\n",
    "И имеет бесконечное множество решений. Запишем в виде общего решения. "
   ]
  },
  {
   "cell_type": "markdown",
   "id": "3e4849d5",
   "metadata": {},
   "source": [
    "$$x_{4}=c,$$\n",
    "$$x_{3}=\\frac{3c - 4}{2},$$\n",
    "$$ -x_{2}+\\frac{3c - 4}{2} +5c=-2 \\; \\Leftrightarrow \\; x_{2}=\\frac{13c}{2},$$\n",
    "$$x_{1}+\\frac{13c}{2} -\\frac{3c - 4}{2} -2c=0 \\; \\Leftrightarrow \\; x_{1}=-3c - 2.$$"
   ]
  },
  {
   "cell_type": "markdown",
   "id": "9e50c266",
   "metadata": {},
   "source": [
    "Параметр $c$ может принимать бесконечное количество значений, при которых уравнения в системе будут обращаться в тождества.\n",
    "\n",
    "Подставив общее решение в исходную систему, также получим тождества:"
   ]
  },
  {
   "cell_type": "markdown",
   "id": "9c449333",
   "metadata": {},
   "source": [
    "$$\\begin{cases}\n",
    "x_{1}+x_{2}-x_{3}-2x_{4}=0, \\\\\n",
    "2x_{1}+x_{2}-x_{3}+x_{4}=-2, \\\\\n",
    "x_{1}+x_{2}-3x_{3}+x_{4}=4.\n",
    "\\end{cases}$$"
   ]
  },
  {
   "cell_type": "markdown",
   "id": "ae9777df",
   "metadata": {},
   "source": [
    "$$\\begin{cases}\n",
    "-3c - 2 +\\frac{13c}{2} - \\frac{3c - 4}{2} -2c =0, \\\\\n",
    "2(-3c - 2)+\\frac{13c}{2}-\\frac{3c - 4}{2}+c=-2, \\\\\n",
    "-3c - 2+\\frac{13c}{2}-3\\frac{3c - 4}{2}+c=4.\n",
    "\\end{cases}$$"
   ]
  },
  {
   "cell_type": "markdown",
   "id": "ea44d876",
   "metadata": {},
   "source": [
    "__Ответ__:\n",
    "\n",
    "$$x_{1}=-3c - 2,$$\n",
    "$$x_{2}=\\frac{13c}{2},$$\n",
    "$$x_{3}=\\frac{3c - 4}{2},$$\n",
    "$$x_{4}=c.$$\n",
    "\n"
   ]
  },
  {
   "cell_type": "markdown",
   "id": "a490d000",
   "metadata": {},
   "source": [
    "__2.__ Проверьте на совместность и выясните, сколько решений будет иметь система линейных уравнений:\n",
    "\n",
    "   а) $\\begin{cases}\n",
    "3x_{1}-x_{2}+x_{3}=4, \\\\\n",
    "2x_{1}-5x_{2}-3x_{3}=-17, \\\\\n",
    "x_{1}+x_{2}-x_{3}=0;\n",
    "\\end{cases}$\n",
    "    \n",
    "   б) $\\begin{cases}\n",
    "2x_{1}-4x_{2}+6x_{3}=1, \\\\\n",
    "x_{1}-2x_{2}+3x_{3}=-2, \\\\\n",
    "3x_{1}-6x_{2}+9x_{3}=5;\n",
    "\\end{cases}$\n",
    "    \n",
    "   в) $\\begin{cases}\n",
    "x_{1}+2x_{2}+5x_{3}=4, \\\\\n",
    "3x_{1}+x_{2}-8x_{3}=-2. \n",
    "\\end{cases}$\n"
   ]
  },
  {
   "cell_type": "markdown",
   "id": "37775651",
   "metadata": {},
   "source": [
    "__Решение__\n",
    "\n",
    "   а) $\\begin{cases}\n",
    "3x_{1}-x_{2}+x_{3}=4, \\\\\n",
    "2x_{1}-5x_{2}-3x_{3}=-17, \\\\\n",
    "x_{1}+x_{2}-x_{3}=0;\n",
    "\\end{cases}$"
   ]
  },
  {
   "cell_type": "markdown",
   "id": "a1fb9efe",
   "metadata": {},
   "source": [
    "$$\\begin{pmatrix}\n",
    "\\left.\\begin{matrix}\n",
    "3 & -1 & 1 \\\\ \n",
    "2 & -5 & -3\\\\ \n",
    "1 & 1 & -1\n",
    "\\end{matrix}\\right|\n",
    "\\begin{matrix}\n",
    "4\\\\ \n",
    "-17\\\\\n",
    "0\n",
    "\\end{matrix}\n",
    "\\end{pmatrix}.$$"
   ]
  },
  {
   "cell_type": "markdown",
   "id": "2f0749ac",
   "metadata": {},
   "source": [
    "__Когда число уравнений равно числу неизвестных__ и матрица коэффициентов не вырождена, если векторы столбцов коэффициентов $a_{1},a_{2}...,a_{n}$ линейно независимы, то такая система совместна, и её решение единственно при любом векторе свободных членов $b$._ "
   ]
  },
  {
   "cell_type": "markdown",
   "id": "75672fe4",
   "metadata": {},
   "source": [
    "В нашем случае, число уравнений равно числу неизвестных, вектора столбцов линейно независимы, соответственно такая __система совместна и имеет одно решение__.\n",
    "\n",
    "Проверим методом Гаусса:\n",
    "\n",
    "$$\\begin{pmatrix}\n",
    "\\left.\\begin{matrix}\n",
    "3 & -1 & 1 \\\\ \n",
    "2 & -5 & -3\\\\ \n",
    "1 & 1 & -1\n",
    "\\end{matrix}\\right|\n",
    "\\begin{matrix}\n",
    "4\\\\ \n",
    "-17\\\\\n",
    "0\n",
    "\\end{matrix}\n",
    "\\end{pmatrix}.$$"
   ]
  },
  {
   "cell_type": "markdown",
   "id": "4a51f04e",
   "metadata": {},
   "source": [
    "Из второй строки вычтем первую, умноженную на 2/3\n",
    "\n",
    "$$\\begin{pmatrix}\n",
    "\\left.\\begin{matrix}\n",
    "3 & -1 & 1 \\\\ \n",
    "0 & -13/3 & -11/3\\\\ \n",
    "1 & 1 & -1\n",
    "\\end{matrix}\\right|\n",
    "\\begin{matrix}\n",
    "4\\\\ \n",
    "-59/3\\\\\n",
    "0\n",
    "\\end{matrix}\n",
    "\\end{pmatrix}.$$"
   ]
  },
  {
   "cell_type": "markdown",
   "id": "6792699d",
   "metadata": {},
   "source": [
    "Из третьей строки вычтем первую, умноженную на 1/3\n",
    "\n",
    "$$\\begin{pmatrix}\n",
    "\\left.\\begin{matrix}\n",
    "3 & -1 & 1 \\\\ \n",
    "0 & -13/3 & -11/3\\\\ \n",
    "0 & 4/3 & -4/3\n",
    "\\end{matrix}\\right|\n",
    "\\begin{matrix}\n",
    "4\\\\ \n",
    "-59/3\\\\\n",
    "-4/3\n",
    "\\end{matrix}\n",
    "\\end{pmatrix}.$$"
   ]
  },
  {
   "cell_type": "markdown",
   "id": "4ba69c87",
   "metadata": {},
   "source": [
    "К третьей строке прибавим вторую, умноженную на 4/13\n",
    "\n",
    "$$\\begin{pmatrix}\n",
    "\\left.\\begin{matrix}\n",
    "3 & -1 & 1 \\\\ \n",
    "0 & -13/3 & -11/3\\\\ \n",
    "0 & 0 & (-4/3 - 44/39)\n",
    "\\end{matrix}\\right|\n",
    "\\begin{matrix}\n",
    "4\\\\ \n",
    "-59/3\\\\\n",
    "(-4/3 - 236/39)\n",
    "\\end{matrix}\n",
    "\\end{pmatrix}.$$\n",
    "\n",
    "__Действительно, получилось, что система совместна и имеет одно решение.__"
   ]
  },
  {
   "cell_type": "markdown",
   "id": "3343df67",
   "metadata": {},
   "source": [
    "    \n",
    "   б) $\\begin{cases}\n",
    "2x_{1}-4x_{2}+6x_{3}=1, \\\\\n",
    "x_{1}-2x_{2}+3x_{3}=-2, \\\\\n",
    "3x_{1}-6x_{2}+9x_{3}=5;\n",
    "\\end{cases}$"
   ]
  },
  {
   "cell_type": "markdown",
   "id": "aa0f3b93",
   "metadata": {},
   "source": [
    "$$\\begin{pmatrix}\n",
    "\\left.\\begin{matrix}\n",
    "2 & -4 & 6 \\\\ \n",
    "1 & -2 & 3\\\\ \n",
    "3 & -6 & 9\n",
    "\\end{matrix}\\right|\n",
    "\\begin{matrix}\n",
    "1\\\\ \n",
    "-2\\\\\n",
    "5\n",
    "\\end{matrix}\n",
    "\\end{pmatrix}.$$"
   ]
  },
  {
   "cell_type": "markdown",
   "id": "aa350284",
   "metadata": {},
   "source": [
    "В данном случае мы видим, что в матрице коэффициентов, первая и вторая строки линейно зависимы, если одну из них их убрать, то ранг матрицы равен 2. В случае расширенной матрицы, строки линейно независимы, то есть ранг матрицы = 3. \n",
    "Третий столбец равен первому, умноженному на 3 (то есть лежат на одной прямой). Столбец свободных членов нельзя выразить через столбцы коэффициентов, то есть вектор свободных членов не лежит в плоскости, образуемой векторами коэффициентов.\n",
    "Соответственно, __система несовместна__.\n"
   ]
  },
  {
   "cell_type": "markdown",
   "id": "43af6d41",
   "metadata": {},
   "source": [
    "   в) $\\begin{cases}\n",
    "x_{1}+2x_{2}+5x_{3}=4, \\\\\n",
    "3x_{1}+x_{2}-8x_{3}=-2. \n",
    "\\end{cases}$"
   ]
  },
  {
   "cell_type": "markdown",
   "id": "ef65bf3a",
   "metadata": {},
   "source": [
    "$$\\begin{pmatrix}\n",
    "\\left.\\begin{matrix}\n",
    "1 & 2 & 5 \\\\ \n",
    "3 & 1 & -8\n",
    "\\end{matrix}\\right|\n",
    "\\begin{matrix}\n",
    "4\\\\ \n",
    "-2\n",
    "\\end{matrix}\n",
    "\\end{pmatrix}.$$\n",
    "\n",
    "Число уравнений меньше числа неизвестных, система недоопределена.\n",
    "Вектора коэфициентов линейно независимы. \n",
    "Ранг и матрицы коэффициентов, и расширенной матрицы равен 2, что меньше числа переменных, которых 3.\n",
    "Соответственно, __система имеет бесконечное количество решений__."
   ]
  },
  {
   "cell_type": "code",
   "execution_count": 175,
   "id": "4de62a37",
   "metadata": {},
   "outputs": [],
   "source": [
    "#Проверим с помощью Python\n",
    "\n",
    "import numpy as np"
   ]
  },
  {
   "cell_type": "code",
   "execution_count": 176,
   "id": "190fbe2d",
   "metadata": {},
   "outputs": [],
   "source": [
    "def gauss_method(A, b, n):\n",
    "    rnk_A = np.linalg.matrix_rank(A)\n",
    "    rnk_Ab = np.linalg.matrix_rank(np.hstack((A, b)))\n",
    "    if  rnk_A == rnk_Ab == n:\n",
    "        return 'Cистема имеет единственное решение'\n",
    "    elif (rnk_A == rnk_Ab) and (rnk_A < n):\n",
    "        return 'Cистема имеет бесконечное количество решений'\n",
    "    elif rnk_A < rnk_Ab:\n",
    "        return 'Cистема несовместна'"
   ]
  },
  {
   "cell_type": "code",
   "execution_count": 177,
   "id": "069b80c0",
   "metadata": {},
   "outputs": [
    {
     "data": {
      "text/plain": [
       "'Cистема имеет единственное решение'"
      ]
     },
     "execution_count": 177,
     "metadata": {},
     "output_type": "execute_result"
    }
   ],
   "source": [
    "A = np.array([[3, -1 , 1], [2, -5, -3], [1, 1, -1]])\n",
    "b = np.array([4, -17, 0]).reshape(-1, 1)\n",
    "gauss_method(A, b, 3)"
   ]
  },
  {
   "cell_type": "code",
   "execution_count": 178,
   "id": "bb67cd17",
   "metadata": {},
   "outputs": [
    {
     "data": {
      "text/plain": [
       "'Cистема несовместна'"
      ]
     },
     "execution_count": 178,
     "metadata": {},
     "output_type": "execute_result"
    }
   ],
   "source": [
    "A = np.array([[2, -4, 6], [1, -2, 3], [3, -6, 9]])\n",
    "b = np.array([1, -2, 5]).reshape(-1, 1)\n",
    "gauss_method(A, b, 3)"
   ]
  },
  {
   "cell_type": "code",
   "execution_count": 179,
   "id": "05a5f65a",
   "metadata": {},
   "outputs": [
    {
     "data": {
      "text/plain": [
       "'Cистема имеет бесконечное количество решений'"
      ]
     },
     "execution_count": 179,
     "metadata": {},
     "output_type": "execute_result"
    }
   ],
   "source": [
    "A = np.array([[1, 2, 5], [3, 1, -8]])\n",
    "b = np.array([4, -2]).reshape(-1, 1)\n",
    "gauss_method(A, b, 3)"
   ]
  },
  {
   "cell_type": "markdown",
   "id": "954c2581",
   "metadata": {},
   "source": [
    "__3.__ Проверьте на совместность и выясните, сколько решений будет иметь система линейных уравнений, заданная расширенной матрицей:\n",
    "\n",
    "$$\\tilde{A}=\\begin{pmatrix}\n",
    "\\left.\\begin{matrix}\n",
    "1 & 3 & -2 & 4\\\\ \n",
    "0 & 5 & 0 & 1\\\\ \n",
    "0 & 0 & 3 & 0\\\\ \n",
    "0 & 0 & 0 & 2\n",
    "\\end{matrix}\\right|\n",
    "\\begin{matrix}\n",
    "3\\\\ \n",
    "2\\\\\n",
    "4\\\\\n",
    "1\n",
    "\\end{matrix}\n",
    "\\end{pmatrix}.$$"
   ]
  },
  {
   "cell_type": "markdown",
   "id": "fd74b7cd",
   "metadata": {},
   "source": [
    "__Решение__"
   ]
  },
  {
   "cell_type": "code",
   "execution_count": 180,
   "id": "b0c313f8",
   "metadata": {},
   "outputs": [
    {
     "data": {
      "text/plain": [
       "'Cистема имеет единственное решение'"
      ]
     },
     "execution_count": 180,
     "metadata": {},
     "output_type": "execute_result"
    }
   ],
   "source": [
    "A = np.array([[1, 3, -2, 4], [0, 5, 0, 1], [0, 0, 3, 0], [0, 0, 0, 2]])\n",
    "b = np.array([3, 2, 4, 1]).reshape(-1, 1)\n",
    "gauss_method(A, b, 4)"
   ]
  },
  {
   "cell_type": "markdown",
   "id": "e39781a6",
   "metadata": {},
   "source": [
    "__Ответ__: система совместна и имеет единственное решение."
   ]
  },
  {
   "cell_type": "markdown",
   "id": "d6a4ff89",
   "metadata": {},
   "source": [
    "__4.__ Дана система линейных уравнений, заданная расширенной матрицей:\n",
    "\n",
    "$$\\tilde{A}=\\begin{pmatrix}\n",
    "\\left.\\begin{matrix}\n",
    "1 & 2 & 3\\\\ \n",
    "4 & 5 & 6\\\\ \n",
    "7 & 8 & 9\n",
    "\\end{matrix}\\right|\n",
    "\\begin{matrix}\n",
    "a\\\\ \n",
    "b\\\\\n",
    "c\n",
    "\\end{matrix}\n",
    "\\end{pmatrix}.$$\n",
    "\n",
    "Найдите соотношение между параметрами $a$, $b$ и $c$, при которых система считается несовместной."
   ]
  },
  {
   "cell_type": "markdown",
   "id": "e9fa6c49",
   "metadata": {},
   "source": [
    "__Решение__\n",
    "\n",
    "\n",
    "По теореме Кронекера — Капелли:\n",
    "\n",
    "Необходимым и достаточным условием совместности системы из $m$ уравнений с $n$ неизвестными считается равенство между собой рангов матрицы коэффициентов $A$ и расширенной матрицы $\\tilde A$:\n",
    "\n",
    "$$rank A=rank \\tilde A.$$\n",
    "\n",
    "Причём:<br>\n",
    "* если $rankA=rank \\tilde A=n$, где $n$ — число неизвестных, то система определена, то есть имеет единственное решение;<br>\n",
    "* если $rankA=rank \\tilde A<n$, то система имеет бесконечное количество решений;<br>\n",
    "* если $rankA<rank \\tilde A$, то система несовместна.\n",
    "\n",
    "__То есть получается, если ранг матрицы коэффициентов меньше ранга расширенной матрицы, то система несовместна.__ "
   ]
  },
  {
   "cell_type": "code",
   "execution_count": 181,
   "id": "794ea081",
   "metadata": {},
   "outputs": [
    {
     "data": {
      "text/plain": [
       "2"
      ]
     },
     "execution_count": 181,
     "metadata": {},
     "output_type": "execute_result"
    }
   ],
   "source": [
    "#Найдем ранг матрицы коэффициентов\n",
    "\n",
    "A = np.array([[1, 2, 3], [4, 5, 6], [7, 8, 9]])\n",
    "\n",
    "rnk_A = np.linalg.matrix_rank(A)\n",
    "rnk_A"
   ]
  },
  {
   "cell_type": "markdown",
   "id": "8c7d9e84",
   "metadata": {},
   "source": [
    "Получается, нам надо добиться того, чтобы ранг расширенной матрицы стал больше ранга матрицы, коэффеициентов. \n",
    "\n",
    "$$\\tilde{A}=\\begin{pmatrix}\n",
    "\\left.\\begin{matrix}\n",
    "1 & 2 & 3\\\\ \n",
    "4 & 5 & 6\\\\ \n",
    "7 & 8 & 9\n",
    "\\end{matrix}\\right|\n",
    "\\begin{matrix}\n",
    "a\\\\ \n",
    "b\\\\\n",
    "c\n",
    "\\end{matrix}\n",
    "\\end{pmatrix}.$$"
   ]
  },
  {
   "cell_type": "markdown",
   "id": "a196568a",
   "metadata": {},
   "source": [
    "Преобразуем матрицу методом Гаусса:\n",
    "\n",
    "От 2-й строки отнимем 1-ю, умноженную на 4\n",
    "\n",
    "$$\\tilde{A}=\\begin{pmatrix}\n",
    "\\left.\\begin{matrix}\n",
    "1 & 2 & 3\\\\ \n",
    "0 & -3 & -6\\\\ \n",
    "7 & 8 & 9\n",
    "\\end{matrix}\\right|\n",
    "\\begin{matrix}\n",
    "a\\\\ \n",
    "b-4a\\\\\n",
    "c\n",
    "\\end{matrix}\n",
    "\\end{pmatrix}.$$\n",
    "\n"
   ]
  },
  {
   "cell_type": "markdown",
   "id": "18951b44",
   "metadata": {},
   "source": [
    "От 3-й строки отнимем 1-ю, умноженную на 7\n",
    "\n",
    "$$\\tilde{A}=\\begin{pmatrix}\n",
    "\\left.\\begin{matrix}\n",
    "1 & 2 & 3\\\\ \n",
    "0 & -3 & -6\\\\ \n",
    "0 & -6 & -12\n",
    "\\end{matrix}\\right|\n",
    "\\begin{matrix}\n",
    "a\\\\ \n",
    "b-4a\\\\\n",
    "c-7a\n",
    "\\end{matrix}\n",
    "\\end{pmatrix}.$$\n"
   ]
  },
  {
   "cell_type": "markdown",
   "id": "54543578",
   "metadata": {},
   "source": [
    "Получается, третья строка матрицы коэффициентов равна второй, умноженнной на 2. Из-за этого ранг матрицы = 2.\n",
    "\n",
    "\n",
    "То есть надо с помощью соотношения коэфициентов, добиться того, чтобы 3я строка не была пропорциональна второй строке. "
   ]
  },
  {
   "cell_type": "markdown",
   "id": "f122363d",
   "metadata": {},
   "source": [
    "Нужное соотношение является результатом решения неравенства:\n",
    "\n",
    "$$ c - 7a \\neq 2(b - 4a) \\Leftrightarrow \\; c \\neq 2b - a \\Leftrightarrow \\; a \\neq  2b - c \\Leftrightarrow \\; b \\neq  \\frac{c+a}{2} $$"
   ]
  },
  {
   "cell_type": "markdown",
   "id": "c02b21c7",
   "metadata": {},
   "source": [
    "Подставим пример, соответствующий данному соотношению в исходную матрицу и найдем ее ранг.\n",
    "\n",
    "Подствляем a=1, b=2, $с \\neq 2b - a \\neq 3$. Подставим c=4\n",
    "$$\\tilde{A}=\\begin{pmatrix}\n",
    "\\left.\\begin{matrix}\n",
    "1 & 2 & 3\\\\ \n",
    "4 & 5 & 6\\\\ \n",
    "7 & 8 & 9\n",
    "\\end{matrix}\\right|\n",
    "\\begin{matrix}\n",
    "1\\\\ \n",
    "2\\\\\n",
    "4\n",
    "\\end{matrix}\n",
    "\\end{pmatrix}.$$"
   ]
  },
  {
   "cell_type": "code",
   "execution_count": 182,
   "id": "d7cc0af3",
   "metadata": {},
   "outputs": [
    {
     "data": {
      "text/plain": [
       "3"
      ]
     },
     "execution_count": 182,
     "metadata": {},
     "output_type": "execute_result"
    }
   ],
   "source": [
    "\n",
    "A = np.array([[1, 2, 3], [4, 5, 6], [7, 8, 9], [1, 2, 4],])\n",
    "\n",
    "rnk_A = np.linalg.matrix_rank(A)\n",
    "rnk_A"
   ]
  },
  {
   "cell_type": "markdown",
   "id": "cba1ff94",
   "metadata": {},
   "source": [
    "__Ранг расширенной матрицы больше, ранга матрицы коэффициентов, то есть система несовместна.__"
   ]
  },
  {
   "cell_type": "code",
   "execution_count": 183,
   "id": "3fbb9cf3",
   "metadata": {},
   "outputs": [
    {
     "data": {
      "text/plain": [
       "2"
      ]
     },
     "execution_count": 183,
     "metadata": {},
     "output_type": "execute_result"
    }
   ],
   "source": [
    "# если поставить с=3, то ранг будет 2 и система будет иметь бесконечное количество решений, так как ранги равны, но меньше\n",
    "# числа переменных.\n",
    "A = np.array([[1, 2, 3], [4, 5, 6], [7, 8, 9], [1, 2, 3],])\n",
    "\n",
    "rnk_A = np.linalg.matrix_rank(A)\n",
    "rnk_A"
   ]
  },
  {
   "cell_type": "markdown",
   "id": "65bd0518",
   "metadata": {},
   "source": [
    "__Ответ__:\n",
    "Соотношение следующее:\n",
    "\n",
    "$$ c \\neq 2b - a \\Leftrightarrow \\; a \\neq  2b - c \\Leftrightarrow \\; b \\neq  \\frac{c+a}{2} $$"
   ]
  },
  {
   "cell_type": "markdown",
   "id": "1e007cae",
   "metadata": {},
   "source": [
    "# Системы линейных уравнений. Часть 2"
   ]
  },
  {
   "cell_type": "markdown",
   "id": "11a94e84",
   "metadata": {},
   "source": [
    "__1.__ Решите систему уравнений методом Крамера:\n",
    "\n",
    "   а) $\\begin{cases}\n",
    "x_{1}-2x_{2}=1 \\\\\n",
    "3x_{1}-4x_{2}=7\n",
    "\\end{cases}$\n",
    "    \n",
    "   б) $\\begin{cases}\n",
    "2x_{1}-x_{2}+5x_{3}=10 \\\\\n",
    "x_{1}+x_{2}-3x_{3}=-2 \\\\\n",
    "2x_{1}+4x_{2}+x_{3}=1\n",
    "\\end{cases}$"
   ]
  },
  {
   "cell_type": "markdown",
   "id": "528d73eb",
   "metadata": {},
   "source": [
    "__Решение__\n",
    "\n",
    "   а) $\\begin{cases}\n",
    "x_{1}-2x_{2}=1 \\\\\n",
    "3x_{1}-4x_{2}=7\n",
    "\\end{cases}$"
   ]
  },
  {
   "cell_type": "markdown",
   "id": "d88ca430",
   "metadata": {},
   "source": [
    "Для системы с $n$ уравнениями и $n$ неизвестными, если система уравнений не вырождена ($detA\\neq 0$), то система определена, то есть имеет единственное решение, и это решение может быть найдено по формуле Крамера:\n",
    "\n",
    "$$x_{i}=\\frac{detA_{i}}{detA},$$\n",
    "\n",
    "где $A_{i}$ — это матрица, получаемая заменой $i$-го столбца на вектор-столбец свободных членов $b$."
   ]
  },
  {
   "cell_type": "markdown",
   "id": "07d93f47",
   "metadata": {},
   "source": [
    "$$\\tilde{A}=\\begin{pmatrix}\n",
    "\\left.\\begin{matrix}\n",
    "1 & -2\\\\ \n",
    "3 & -4\\\\ \n",
    "\\end{matrix}\\right|\n",
    "\\begin{matrix}\n",
    "1\\\\ \n",
    "7\n",
    "\\end{matrix}\n",
    "\\end{pmatrix}.$$"
   ]
  },
  {
   "cell_type": "markdown",
   "id": "8392775c",
   "metadata": {},
   "source": [
    "$$detA = (1 * (-4)) - 3 * (-2) = -4 + 6 = 2$$"
   ]
  },
  {
   "cell_type": "code",
   "execution_count": 184,
   "id": "519980e0",
   "metadata": {},
   "outputs": [
    {
     "data": {
      "text/plain": [
       "2.0000000000000004"
      ]
     },
     "execution_count": 184,
     "metadata": {},
     "output_type": "execute_result"
    }
   ],
   "source": [
    "A = np.array([[1,-2], [3, -4]])\n",
    "np.linalg.det(A)"
   ]
  },
  {
   "cell_type": "markdown",
   "id": "cd35c15f",
   "metadata": {},
   "source": [
    "$$detA_1 = (1 * (-4)) - (-2) * 7 = -4 + 14 = 10$$"
   ]
  },
  {
   "cell_type": "code",
   "execution_count": 185,
   "id": "e152405a",
   "metadata": {},
   "outputs": [
    {
     "data": {
      "text/plain": [
       "9.999999999999998"
      ]
     },
     "execution_count": 185,
     "metadata": {},
     "output_type": "execute_result"
    }
   ],
   "source": [
    "A_1 = np.array([[1, -2], [7, -4]])\n",
    "np.linalg.det(A_1)"
   ]
  },
  {
   "cell_type": "markdown",
   "id": "21ec2970",
   "metadata": {},
   "source": [
    "$$detA_2 = (1 * 7) - 1 * 3 = 7 - 3 = 4$$"
   ]
  },
  {
   "cell_type": "code",
   "execution_count": 186,
   "id": "776ae160",
   "metadata": {},
   "outputs": [
    {
     "data": {
      "text/plain": [
       "3.999999999999999"
      ]
     },
     "execution_count": 186,
     "metadata": {},
     "output_type": "execute_result"
    }
   ],
   "source": [
    "A_2 = np.array([[1, 1], [3, 7]])\n",
    "np.linalg.det(A_2)"
   ]
  },
  {
   "cell_type": "markdown",
   "id": "043f6070",
   "metadata": {},
   "source": [
    "$$x_{1}=\\frac{10}{2} = 5$$\n"
   ]
  },
  {
   "cell_type": "code",
   "execution_count": 187,
   "id": "2aae6623",
   "metadata": {},
   "outputs": [
    {
     "data": {
      "text/plain": [
       "4.999999999999998"
      ]
     },
     "execution_count": 187,
     "metadata": {},
     "output_type": "execute_result"
    }
   ],
   "source": [
    "np.linalg.det(A_1) / np.linalg.det(A)"
   ]
  },
  {
   "cell_type": "markdown",
   "id": "cc84325e",
   "metadata": {},
   "source": [
    "$$x_{2}=\\frac{4}{2} = 2$$"
   ]
  },
  {
   "cell_type": "code",
   "execution_count": 188,
   "id": "a666734a",
   "metadata": {},
   "outputs": [
    {
     "data": {
      "text/plain": [
       "1.9999999999999991"
      ]
     },
     "execution_count": 188,
     "metadata": {},
     "output_type": "execute_result"
    }
   ],
   "source": [
    "np.linalg.det(A_2) / np.linalg.det(A)"
   ]
  },
  {
   "cell_type": "markdown",
   "id": "67e07ebb",
   "metadata": {},
   "source": [
    "__Ответ:__\n",
    "\n",
    "x1 = 5, x2 = 2"
   ]
  },
  {
   "cell_type": "markdown",
   "id": "bc48f3a2",
   "metadata": {},
   "source": [
    "   б) $\\begin{cases}\n",
    "2x_{1}-x_{2}+5x_{3}=10 \\\\\n",
    "x_{1}+x_{2}-3x_{3}=-2 \\\\\n",
    "2x_{1}+4x_{2}+x_{3}=1\n",
    "\\end{cases}$"
   ]
  },
  {
   "cell_type": "markdown",
   "id": "ad2e533f",
   "metadata": {},
   "source": [
    "$$\\tilde{A}=\\begin{pmatrix}\n",
    "\\left.\\begin{matrix}\n",
    "2 & -1 & 5\\\\ \n",
    "1 & 1 & -3\\\\ \n",
    "2 & 4 & 1\\\\\n",
    "\\end{matrix}\\right|\n",
    "\\begin{matrix}\n",
    "10\\\\ \n",
    "-2\\\\\n",
    "1\n",
    "\\end{matrix}\n",
    "\\end{pmatrix}.$$"
   ]
  },
  {
   "cell_type": "markdown",
   "id": "0d2fe857",
   "metadata": {},
   "source": [
    "$$x_{i}=\\frac{detA_{i}}{detA},$$"
   ]
  },
  {
   "cell_type": "markdown",
   "id": "2948387a",
   "metadata": {},
   "source": [
    "$$detA = 2 (1 + 12) + 1 (1 + 6) + 5 (4 - 2) = 42$$"
   ]
  },
  {
   "cell_type": "code",
   "execution_count": 189,
   "id": "e6144c67",
   "metadata": {},
   "outputs": [
    {
     "data": {
      "text/plain": [
       "42.99999999999998"
      ]
     },
     "execution_count": 189,
     "metadata": {},
     "output_type": "execute_result"
    }
   ],
   "source": [
    "A = np.array([[2,-1, 5], [1, 1, -3], [2, 4, 1]])\n",
    "np.linalg.det(A)"
   ]
  },
  {
   "cell_type": "code",
   "execution_count": 190,
   "id": "24d50657",
   "metadata": {},
   "outputs": [
    {
     "data": {
      "text/plain": [
       "86.00000000000004"
      ]
     },
     "execution_count": 190,
     "metadata": {},
     "output_type": "execute_result"
    }
   ],
   "source": [
    "A_1 = np.array([[10,-1, 5], [-2, 1, -3], [1, 4, 1]])\n",
    "np.linalg.det(A_1)"
   ]
  },
  {
   "cell_type": "code",
   "execution_count": 191,
   "id": "701b901f",
   "metadata": {},
   "outputs": [
    {
     "data": {
      "text/plain": [
       "-43.000000000000014"
      ]
     },
     "execution_count": 191,
     "metadata": {},
     "output_type": "execute_result"
    }
   ],
   "source": [
    "A_2 = np.array([[2, 10, 5], [1, -2, -3], [2, 1, 1]])\n",
    "np.linalg.det(A_2)"
   ]
  },
  {
   "cell_type": "code",
   "execution_count": 192,
   "id": "0fa4eeb9",
   "metadata": {},
   "outputs": [
    {
     "data": {
      "text/plain": [
       "43.0"
      ]
     },
     "execution_count": 192,
     "metadata": {},
     "output_type": "execute_result"
    }
   ],
   "source": [
    "A_3 = np.array([[2,-1, 10], [1, 1, -2], [2, 4, 1]])\n",
    "np.linalg.det(A_3)"
   ]
  },
  {
   "cell_type": "code",
   "execution_count": 193,
   "id": "e2e24dd0",
   "metadata": {},
   "outputs": [
    {
     "data": {
      "text/plain": [
       "2.0000000000000018"
      ]
     },
     "execution_count": 193,
     "metadata": {},
     "output_type": "execute_result"
    }
   ],
   "source": [
    "x_1  = np.linalg.det(A_1)/ np.linalg.det(A)\n",
    "x_1"
   ]
  },
  {
   "cell_type": "code",
   "execution_count": 194,
   "id": "80575c34",
   "metadata": {},
   "outputs": [
    {
     "data": {
      "text/plain": [
       "-1.0000000000000009"
      ]
     },
     "execution_count": 194,
     "metadata": {},
     "output_type": "execute_result"
    }
   ],
   "source": [
    "x_2  = np.linalg.det(A_2)/ np.linalg.det(A)\n",
    "x_2"
   ]
  },
  {
   "cell_type": "code",
   "execution_count": 195,
   "id": "1abe0570",
   "metadata": {},
   "outputs": [
    {
     "data": {
      "text/plain": [
       "1.0000000000000004"
      ]
     },
     "execution_count": 195,
     "metadata": {},
     "output_type": "execute_result"
    }
   ],
   "source": [
    "x_3  = np.linalg.det(A_3)/ np.linalg.det(A)\n",
    "x_3"
   ]
  },
  {
   "cell_type": "markdown",
   "id": "3c959475",
   "metadata": {},
   "source": [
    "Подставим полученные значения в исходное уравнение:\n",
    "\n",
    "$ 2 * 2 -(-1)+5 * 1 =10$ \n",
    "\n",
    "$ 4 + 1 +5 * 1 =10$ \n",
    "\n",
    "Равенство выполняется."
   ]
  },
  {
   "cell_type": "markdown",
   "id": "d3719541",
   "metadata": {},
   "source": [
    "__Ответ:__\n",
    "\n",
    "x1 = 2, x2 = -1, x3 = 1"
   ]
  },
  {
   "cell_type": "markdown",
   "id": "576ed1e3",
   "metadata": {},
   "source": [
    "\n",
    "__2*.__ Найдите $L$-матрицу $LU$-разложения для матрицы коэффициентов:\n",
    "\n",
    "   а)$$\\begin{pmatrix}\n",
    "1 & 2 & 4 \\\\ \n",
    "2 & 9 & 12 \\\\ \n",
    "3 & 26 & 30\n",
    "\\end{pmatrix}$$\n",
    "    \n",
    "   б)$$\\begin{pmatrix}\n",
    "1 & 1 & 2 & 4\\\\ \n",
    "2 & 5 & 8 & 9\\\\ \n",
    "3 & 18 & 29 & 18\\\\\n",
    "4 & 22 & 53 & 33\n",
    "\\end{pmatrix}$$"
   ]
  },
  {
   "cell_type": "markdown",
   "id": "9094039b",
   "metadata": {},
   "source": [
    "__Решение__\n",
    "\n",
    "   а)$$\\begin{pmatrix}\n",
    "1 & 2 & 4 \\\\ \n",
    "2 & 9 & 12 \\\\ \n",
    "3 & 26 & 30\n",
    "\\end{pmatrix}$$"
   ]
  },
  {
   "cell_type": "markdown",
   "id": "8c4c6603",
   "metadata": {},
   "source": [
    "__Теорема__\n",
    "\n",
    "Пусть дана квадратная матрица $A$ порядка $n$, и $A_{k}$ — главный минор этой матрицы, составленный из первых $k$ строк и столбцов. Если $det(A_{k})\\neq0$ для $k=1,2...,n-1$, тогда существует единственная нижняя треугольная матрица $L=(l_{ij})$, где $l_{11}=l_{22}=...=l_{nn}=1$, и единственная верхняя треугольная матрица $U=(u_{ij})$, что $LU=A$. Более того, $det(A)=u_{11}\\cdot u_{22}\\cdot...\\cdot u_{nn}$."
   ]
  },
  {
   "cell_type": "markdown",
   "id": "4ae8d13e",
   "metadata": {},
   "source": [
    "Представление матрицы системы уравнений $A$ в виде произведения $LU$ считается основной идеей гауссовских схем исключения, так как система $Ax=b$ может быть записана как:\n",
    "\n",
    "$$LUx=b$$\n",
    "\n",
    "и сводится к двум системам с треугольными матрицами."
   ]
  },
  {
   "cell_type": "markdown",
   "id": "6cc42291",
   "metadata": {},
   "source": [
    "$L$ - нижняя треугольная матрица, $U$ - верхнетреугольная матрица, получаемая путем классического метода Гаусса."
   ]
  },
  {
   "cell_type": "markdown",
   "id": "e3f8f943",
   "metadata": {},
   "source": [
    "Верхняя треугольная матрица $U$ получается путём прямого хода метода Гаусса.\n",
    "\n",
    "Повторяя алгоритм из предыдущего урока, если $a_{11}\\neq0$, на первом шаге умножаем первое уравнение на \n",
    "\n",
    "$$m_{i1}=\\frac{a_{i1}}{a_{11}}$$\n",
    "\n",
    "и вычитаем его из $i$-го ($i=2,3,4$).\n",
    "\n",
    "В итоге получаем эквивалентную систему\n",
    "\n",
    "$$\\begin{pmatrix}\n",
    "a_{11} & a_{12} & a_{13} & a_{14}\\\\ \n",
    "0 & a_{22}^{(1)} & a_{23}^{(1)} & a_{24}^{(1)}\\\\ \n",
    "0 & a_{32}^{(1)} & a_{33}^{(1)} & a_{34}^{(1)}\\\\ \n",
    "0 & a_{42}^{(1)} & a_{43}^{(1)} & a_{44}^{(1)}\\\\ \n",
    "\\end{pmatrix}\n",
    "\\begin{pmatrix}\n",
    "x_{1}\\\\ \n",
    "x_{2}\\\\ \n",
    "x_{3}\\\\ \n",
    "x_{4}\\\\ \n",
    "\\end{pmatrix}=\n",
    "\\begin{pmatrix}\n",
    "b_{1}\\\\ \n",
    "b_{2}^{1}\\\\ \n",
    "b_{3}^{1}\\\\ \n",
    "b_{4}^{1}\\\\ \n",
    "\\end{pmatrix},$$\n",
    "\n",
    "где:\n",
    "\n",
    "$$a_{ij}^{(1)}=a_{ij}-a_{1j}\\frac{a_{i1}}{a_{11}}~~~~(i,j\\geq2),$$\n",
    "$$b_{i}^{(1)}=b_{i}-b_{1}\\frac{a_{i1}}{a_{11}}.$$"
   ]
  },
  {
   "cell_type": "markdown",
   "id": "af3fec86",
   "metadata": {},
   "source": [
    "$L$ находится следующим образом:\n",
    "\n",
    "$$L=\\begin{pmatrix}\n",
    "1 & 0 & 0 & 0\\\\ \n",
    "m_{21} & 1 & 0 & 0\\\\ \n",
    "m_{31} & m_{32} & 1 & 0\\\\ \n",
    "m_{41} & m_{42} & m_{43} & 1\\\\ \n",
    "\\end{pmatrix}.$$"
   ]
  },
  {
   "cell_type": "markdown",
   "id": "7c5d711c",
   "metadata": {},
   "source": [
    "Проделаем эти операции. Найдем матрицу $U$ и соответствующие коэффициенты."
   ]
  },
  {
   "cell_type": "markdown",
   "id": "33f018b8",
   "metadata": {},
   "source": [
    "$$\\begin{pmatrix}\n",
    "1 & 2 & 4 \\\\ \n",
    "2 & 9 & 12 \\\\ \n",
    "3 & 26 & 30\n",
    "\\end{pmatrix}$$"
   ]
  },
  {
   "cell_type": "markdown",
   "id": "afe0b2e2",
   "metadata": {},
   "source": [
    "Отнимем из второй строки первую умноженную на 2, то есть $m_{21} = 2$\n",
    "\n",
    "$$\\begin{pmatrix}\n",
    "1 & 2 & 4 \\\\ \n",
    "0 & 5 & 4 \\\\ \n",
    "3 & 26 & 30\n",
    "\\end{pmatrix}$$"
   ]
  },
  {
   "cell_type": "markdown",
   "id": "828a0622",
   "metadata": {},
   "source": [
    "Отнимем из третьей строки первую умноженную на 3, то есть $m_{31} = 3$\n",
    "\n",
    "$$\\begin{pmatrix}\n",
    "1 & 2 & 4 \\\\ \n",
    "0 & 5 & 4 \\\\ \n",
    "0 & 20 & 18\n",
    "\\end{pmatrix}$$"
   ]
  },
  {
   "cell_type": "markdown",
   "id": "e78c1f58",
   "metadata": {},
   "source": [
    "Отнимем из третьей строки вторую умноженную на 4, то есть $m_{32} = 4$\n",
    "\n",
    "$$\\begin{pmatrix}\n",
    "1 & 2 & 4 \\\\ \n",
    "0 & 5 & 4 \\\\ \n",
    "0 & 0 & 2\n",
    "\\end{pmatrix}$$"
   ]
  },
  {
   "cell_type": "markdown",
   "id": "cf34aefc",
   "metadata": {},
   "source": [
    "Получили матрицу $U$:\n",
    "\n",
    "$$\\begin{pmatrix}\n",
    "1 & 2 & 4 \\\\ \n",
    "0 & 5 & 4 \\\\ \n",
    "0 & 0 & 2\n",
    "\\end{pmatrix}$$"
   ]
  },
  {
   "cell_type": "markdown",
   "id": "9c9e2c5f",
   "metadata": {},
   "source": [
    "Найдем матрицу $L$:\n",
    "\n",
    "$$\\begin{pmatrix}\n",
    "1 & 0 & 0 \\\\ \n",
    "2 & 1 & 0 \\\\ \n",
    "3 & 4 & 1\n",
    "\\end{pmatrix}$$"
   ]
  },
  {
   "cell_type": "markdown",
   "id": "ffade1b2",
   "metadata": {},
   "source": [
    "$$A=LU.$$\n",
    "\n",
    "Проверим на практике - все верно. "
   ]
  },
  {
   "cell_type": "code",
   "execution_count": 196,
   "id": "b24d5c7a",
   "metadata": {},
   "outputs": [
    {
     "data": {
      "text/plain": [
       "array([[ 1,  2,  4],\n",
       "       [ 2,  9, 12],\n",
       "       [ 3, 26, 30]])"
      ]
     },
     "execution_count": 196,
     "metadata": {},
     "output_type": "execute_result"
    }
   ],
   "source": [
    "L = np.array([[1, 0, 0], [2, 1, 0], [3, 4, 1]])\n",
    "U = np.array([[1, 2, 4], [0, 5, 4], [0, 0, 2]])\n",
    "np.dot(L, U)"
   ]
  },
  {
   "cell_type": "markdown",
   "id": "bbc41215",
   "metadata": {},
   "source": [
    "   б)$$\\begin{pmatrix}\n",
    "1 & 1 & 2 & 4\\\\ \n",
    "2 & 5 & 8 & 9\\\\ \n",
    "3 & 18 & 29 & 18\\\\\n",
    "4 & 22 & 53 & 33\n",
    "\\end{pmatrix}$$"
   ]
  },
  {
   "cell_type": "markdown",
   "id": "3ea25789",
   "metadata": {},
   "source": [
    "Найдем матрицу $U$ и соответствующие коэффициенты.\n",
    "\n",
    "$$\\begin{pmatrix}\n",
    "1 & 1 & 2 & 4\\\\ \n",
    "2 & 5 & 8 & 9\\\\ \n",
    "3 & 18 & 29 & 18\\\\\n",
    "4 & 22 & 53 & 33\n",
    "\\end{pmatrix}$$"
   ]
  },
  {
   "cell_type": "markdown",
   "id": "46b47138",
   "metadata": {},
   "source": [
    "Для экономии времени воспользуемся Python"
   ]
  },
  {
   "cell_type": "code",
   "execution_count": 197,
   "id": "8db3ae1f",
   "metadata": {},
   "outputs": [],
   "source": [
    "A = np.array([[1, 1, 2, 4], [2, 5, 8, 9], [3, 18, 29, 18], [4, 22, 53, 33]])"
   ]
  },
  {
   "cell_type": "code",
   "execution_count": 198,
   "id": "36869496",
   "metadata": {},
   "outputs": [
    {
     "data": {
      "text/plain": [
       "array([[ 1,  1,  2,  4],\n",
       "       [ 0,  3,  4,  1],\n",
       "       [ 3, 18, 29, 18],\n",
       "       [ 4, 22, 53, 33]])"
      ]
     },
     "execution_count": 198,
     "metadata": {},
     "output_type": "execute_result"
    }
   ],
   "source": [
    "# Отнимем из второй строки первую умноженную на 2, то есть m_21 = 2\n",
    "A[1,] = A[1,] - A[0,]*2\n",
    "A"
   ]
  },
  {
   "cell_type": "code",
   "execution_count": 199,
   "id": "9477d29d",
   "metadata": {},
   "outputs": [
    {
     "data": {
      "text/plain": [
       "array([[ 1,  1,  2,  4],\n",
       "       [ 0,  3,  4,  1],\n",
       "       [ 0, 15, 23,  6],\n",
       "       [ 4, 22, 53, 33]])"
      ]
     },
     "execution_count": 199,
     "metadata": {},
     "output_type": "execute_result"
    }
   ],
   "source": [
    "# Отнимем из третьей строки первую, умноженную на 3, то есть m_31 = 3\n",
    "A[2,] = A[2,] - A[0,]*3\n",
    "A"
   ]
  },
  {
   "cell_type": "code",
   "execution_count": 200,
   "id": "b899b8f0",
   "metadata": {},
   "outputs": [
    {
     "data": {
      "text/plain": [
       "array([[ 1,  1,  2,  4],\n",
       "       [ 0,  3,  4,  1],\n",
       "       [ 0, 15, 23,  6],\n",
       "       [ 0, 18, 45, 17]])"
      ]
     },
     "execution_count": 200,
     "metadata": {},
     "output_type": "execute_result"
    }
   ],
   "source": [
    "# Отнимем из четвертой строки первую, умноженную на 4, то есть m_41 = 4\n",
    "A[3,] = A[3,] - A[0,]*4\n",
    "A"
   ]
  },
  {
   "cell_type": "code",
   "execution_count": 201,
   "id": "5c2a39b0",
   "metadata": {},
   "outputs": [
    {
     "data": {
      "text/plain": [
       "array([[ 1,  1,  2,  4],\n",
       "       [ 0,  3,  4,  1],\n",
       "       [ 0,  0,  3,  1],\n",
       "       [ 0, 18, 45, 17]])"
      ]
     },
     "execution_count": 201,
     "metadata": {},
     "output_type": "execute_result"
    }
   ],
   "source": [
    "# Отнимем из третьей строки вторую, умноженную на 5, то есть m_32 = 5\n",
    "A[2,] = A[2,] - A[1,]*5\n",
    "A"
   ]
  },
  {
   "cell_type": "code",
   "execution_count": 202,
   "id": "83051496",
   "metadata": {},
   "outputs": [
    {
     "data": {
      "text/plain": [
       "array([[ 1,  1,  2,  4],\n",
       "       [ 0,  3,  4,  1],\n",
       "       [ 0,  0,  3,  1],\n",
       "       [ 0,  0, 21, 11]])"
      ]
     },
     "execution_count": 202,
     "metadata": {},
     "output_type": "execute_result"
    }
   ],
   "source": [
    "# Отнимем из четвертой строки вторую, умноженную на 6, то есть m_42 = 6\n",
    "A[3,] = A[3,] - A[1,]*6\n",
    "A"
   ]
  },
  {
   "cell_type": "code",
   "execution_count": 203,
   "id": "82b0fc84",
   "metadata": {},
   "outputs": [
    {
     "data": {
      "text/plain": [
       "array([[1, 1, 2, 4],\n",
       "       [0, 3, 4, 1],\n",
       "       [0, 0, 3, 1],\n",
       "       [0, 0, 0, 4]])"
      ]
     },
     "execution_count": 203,
     "metadata": {},
     "output_type": "execute_result"
    }
   ],
   "source": [
    "# Отнимем из четвертой строки третью, умноженную на 7, то есть m_43 = 7\n",
    "A[3,] = A[3,] - A[2,]*7\n",
    "A"
   ]
  },
  {
   "cell_type": "code",
   "execution_count": 204,
   "id": "89c45899",
   "metadata": {},
   "outputs": [
    {
     "data": {
      "text/plain": [
       "array([[1, 1, 2, 4],\n",
       "       [0, 3, 4, 1],\n",
       "       [0, 0, 3, 1],\n",
       "       [0, 0, 0, 4]])"
      ]
     },
     "execution_count": 204,
     "metadata": {},
     "output_type": "execute_result"
    }
   ],
   "source": [
    "#U матрица готова\n",
    "U = A\n",
    "U"
   ]
  },
  {
   "cell_type": "code",
   "execution_count": 205,
   "id": "02dfa28f",
   "metadata": {},
   "outputs": [
    {
     "data": {
      "text/plain": [
       "array([[1, 0, 0, 0],\n",
       "       [2, 1, 0, 0],\n",
       "       [3, 5, 1, 0],\n",
       "       [4, 6, 7, 1]])"
      ]
     },
     "execution_count": 205,
     "metadata": {},
     "output_type": "execute_result"
    }
   ],
   "source": [
    "#теперь построим L матрицу с помощью коэффициентов\n",
    "\n",
    "L = np.array([[1, 0, 0, 0], [2, 1, 0, 0], [3, 5, 1, 0], [4, 6, 7, 1]])\n",
    "L "
   ]
  },
  {
   "cell_type": "code",
   "execution_count": 206,
   "id": "03b9b47e",
   "metadata": {},
   "outputs": [
    {
     "data": {
      "text/plain": [
       "array([[ 1,  1,  2,  4],\n",
       "       [ 2,  5,  8,  9],\n",
       "       [ 3, 18, 29, 18],\n",
       "       [ 4, 22, 53, 33]])"
      ]
     },
     "execution_count": 206,
     "metadata": {},
     "output_type": "execute_result"
    }
   ],
   "source": [
    "A = np.dot(L, U)\n",
    "A"
   ]
  },
  {
   "cell_type": "code",
   "execution_count": 207,
   "id": "325c33f7",
   "metadata": {},
   "outputs": [
    {
     "data": {
      "text/plain": [
       "array([[1, 0, 0, 0],\n",
       "       [2, 1, 0, 0],\n",
       "       [3, 5, 1, 0],\n",
       "       [4, 6, 7, 1]])"
      ]
     },
     "execution_count": 207,
     "metadata": {},
     "output_type": "execute_result"
    }
   ],
   "source": [
    "#Итог, L матрица получилась следующей:\n",
    "L"
   ]
  },
  {
   "cell_type": "markdown",
   "id": "35a803bf",
   "metadata": {},
   "source": [
    "__3*.__ Решите систему линейных уравнений методом $LU$-разложения:\n",
    "\n",
    "$$\\begin{cases}\n",
    "2x_{1}+x_{2}+3x_{3}=1 \\\\\n",
    "11x_{1}+7x_{2}+5x_{3}=-6 \\\\\n",
    "9x_{1}+8x_{2}+4x_{3}=-5\n",
    "\\end{cases}$$"
   ]
  },
  {
   "cell_type": "markdown",
   "id": "028251e3",
   "metadata": {},
   "source": [
    "__Решение__\n",
    "\n",
    "Матрица коэффициентов $A$ примет вид:\n",
    "\n",
    "$$\\begin{pmatrix}\n",
    "2 & 1 & 3 \\\\ \n",
    "11 & 7 & 5 \\\\ \n",
    "9 & 8 & 4\n",
    "\\end{pmatrix}.$$"
   ]
  },
  {
   "cell_type": "code",
   "execution_count": 208,
   "id": "c7b2e6d3",
   "metadata": {},
   "outputs": [
    {
     "data": {
      "text/plain": [
       "array([[ 2.,  1.,  3.],\n",
       "       [11.,  7.,  5.],\n",
       "       [ 9.,  8.,  4.]])"
      ]
     },
     "execution_count": 208,
     "metadata": {},
     "output_type": "execute_result"
    }
   ],
   "source": [
    "#Найдем U-матрицу путем прямого хода Гаусса.\n",
    "A = np.array([[2, 1, 3], [11, 7, 5], [9, 8, 4]], dtype=np.float64)\n",
    "A"
   ]
  },
  {
   "cell_type": "code",
   "execution_count": 209,
   "id": "cebcd40a",
   "metadata": {},
   "outputs": [
    {
     "data": {
      "text/plain": [
       "array([[  2. ,   1. ,   3. ],\n",
       "       [  0. ,   1.5, -11.5],\n",
       "       [  9. ,   8. ,   4. ]])"
      ]
     },
     "execution_count": 209,
     "metadata": {},
     "output_type": "execute_result"
    }
   ],
   "source": [
    "#разделим первую строку на 2 и домножим на 11 и отнимем от второй m21 = 11/2\n",
    "A[1,] = A[1,] - (A[0,]*11/2)\n",
    "A"
   ]
  },
  {
   "cell_type": "code",
   "execution_count": 210,
   "id": "1932f646",
   "metadata": {},
   "outputs": [
    {
     "data": {
      "text/plain": [
       "array([[  2. ,   1. ,   3. ],\n",
       "       [  0. ,   1.5, -11.5],\n",
       "       [  0. ,   3.5,  -9.5]])"
      ]
     },
     "execution_count": 210,
     "metadata": {},
     "output_type": "execute_result"
    }
   ],
   "source": [
    "#разделим первую строку на 2 и домножим на 9 и отнимем от третьей m31 = 9/2\n",
    "A[2,] = A[2,] - (A[0,]*9/2)\n",
    "A"
   ]
  },
  {
   "cell_type": "code",
   "execution_count": 211,
   "id": "3793143e",
   "metadata": {},
   "outputs": [
    {
     "data": {
      "text/plain": [
       "array([[  2.        ,   1.        ,   3.        ],\n",
       "       [  0.        ,   1.5       , -11.5       ],\n",
       "       [  0.        ,   0.        ,  17.33333333]])"
      ]
     },
     "execution_count": 211,
     "metadata": {},
     "output_type": "execute_result"
    }
   ],
   "source": [
    "#разделим вторую строку на 1,5 и домножим на 3,5 и отнимем от третьей m32 = 3.5/1.5\n",
    "A[2,] = A[2,] - (A[1,]*3.5/1.5)\n",
    "A"
   ]
  },
  {
   "cell_type": "code",
   "execution_count": 212,
   "id": "c49c42c4",
   "metadata": {},
   "outputs": [
    {
     "data": {
      "text/plain": [
       "array([[  2.        ,   1.        ,   3.        ],\n",
       "       [  0.        ,   1.5       , -11.5       ],\n",
       "       [  0.        ,   0.        ,  17.33333333]])"
      ]
     },
     "execution_count": 212,
     "metadata": {},
     "output_type": "execute_result"
    }
   ],
   "source": [
    "# U матрица готова\n",
    "U = A \n",
    "U"
   ]
  },
  {
   "cell_type": "code",
   "execution_count": 213,
   "id": "f76df4ea",
   "metadata": {},
   "outputs": [
    {
     "data": {
      "text/plain": [
       "array([[1.        , 0.        , 0.        ],\n",
       "       [5.5       , 1.        , 0.        ],\n",
       "       [4.5       , 2.33333333, 1.        ]])"
      ]
     },
     "execution_count": 213,
     "metadata": {},
     "output_type": "execute_result"
    }
   ],
   "source": [
    "#построим L матрицу\n",
    "L = np.array([[1, 0, 0], [11/2, 1, 0], [9/2, 3.5/1.5, 1]], dtype=np.float64)\n",
    "L"
   ]
  },
  {
   "cell_type": "code",
   "execution_count": 214,
   "id": "364c64f6",
   "metadata": {},
   "outputs": [
    {
     "data": {
      "text/plain": [
       "array([[ 2.,  1.,  3.],\n",
       "       [11.,  7.,  5.],\n",
       "       [ 9.,  8.,  4.]])"
      ]
     },
     "execution_count": 214,
     "metadata": {},
     "output_type": "execute_result"
    }
   ],
   "source": [
    "#проверяем\n",
    "np.dot(L, U)"
   ]
  },
  {
   "cell_type": "markdown",
   "id": "4e87b4ee",
   "metadata": {},
   "source": [
    "Теперь решим систему:\n",
    "\n",
    "$$Ly=b:$$\n",
    "\n",
    "$$\\begin{cases}\n",
    "y_{1}=1, \\\\\n",
    "5.5y_{1}+y_{2}=-6, \\\\\n",
    "4.5y_{1}+ 2.33y_{2}+y_{3}=-5.\n",
    "\\end{cases}$$\n",
    "\n",
    "$$y_{1}=1,$$\n",
    "$$y_{2}=-11.5,$$\n",
    "$$y_{3}=17.295.$$"
   ]
  },
  {
   "cell_type": "code",
   "execution_count": 215,
   "id": "a3d690fe",
   "metadata": {},
   "outputs": [
    {
     "data": {
      "text/plain": [
       "array([[  2.        ,   1.        ,   3.        ],\n",
       "       [  0.        ,   1.5       , -11.5       ],\n",
       "       [  0.        ,   0.        ,  17.33333333]])"
      ]
     },
     "execution_count": 215,
     "metadata": {},
     "output_type": "execute_result"
    }
   ],
   "source": [
    "U"
   ]
  },
  {
   "cell_type": "markdown",
   "id": "8036e923",
   "metadata": {},
   "source": [
    "Затем систему:\n",
    "\n",
    "$$Ux=y:$$\n",
    "\n",
    "$$\\begin{cases}\n",
    "2x_{1}+x_{2}+ 3x_{3}=1, \\\\\n",
    "1.5x_{2} - 11.5x_{3}=-11.5, \\\\\n",
    "17.33x_{3}=17.295.\n",
    "\\end{cases}$$\n",
    "\n",
    "$$x_{3} \\approx 0,998 \\approx 1$$\n",
    "$$x_{2}\\approx 0,$$\n",
    "$$x_{1}\\approx -1.$$"
   ]
  },
  {
   "cell_type": "markdown",
   "id": "e49159e0",
   "metadata": {},
   "source": [
    "Подставим решение в исходную систему:\n",
    "\n",
    "$$\\begin{cases}\n",
    "2(-1)+ 0 +3 * 1 =1 \\\\\n",
    "11(-1)+7 * 0 +5 * 1 =-6 \\\\\n",
    "9(-1)+8 * 0 +4 * 1 = -5\n",
    "\\end{cases}$$\n",
    "\n",
    "Равенство выполняется. "
   ]
  },
  {
   "cell_type": "markdown",
   "id": "5914b4c7",
   "metadata": {},
   "source": [
    "__Ответ__\n",
    "$$x_{3} \\approx 0,998 \\approx 1$$\n",
    "$$x_{2}\\approx 0,$$\n",
    "$$x_{1}\\approx -1.$$"
   ]
  },
  {
   "cell_type": "markdown",
   "id": "53d459fc",
   "metadata": {},
   "source": [
    "\n",
    "__4*.__ Решите систему линейных уравнений методом Холецкого:\n",
    "\n",
    "$$\\begin{cases}\n",
    "81x_{1}-45x_{2}+45x_{3}=531 \\\\\n",
    "-45x_{1}+50x_{2}-15x_{3}=-460 \\\\\n",
    "45x_{1}-15x_{2}+38x_{3}=193\n",
    "\\end{cases}$$"
   ]
  },
  {
   "cell_type": "markdown",
   "id": "aacacc6c",
   "metadata": {},
   "source": [
    "__Решение__"
   ]
  },
  {
   "cell_type": "markdown",
   "id": "dd2d06c9",
   "metadata": {},
   "source": [
    "$$\\begin{pmatrix}\n",
    "81 & -45 & 45 \\\\ \n",
    "-45 & 50 & -15 \\\\ \n",
    "45 & -15 & 38\n",
    "\\end{pmatrix}.$$"
   ]
  },
  {
   "cell_type": "markdown",
   "id": "21baf7f0",
   "metadata": {},
   "source": [
    "Произведём разложение на $LL^{T}$:\n",
    "\n",
    "$$l_{11}=\\sqrt{a_{11}}=\\sqrt{81} = 9,$$\n",
    "$$l_{21}=\\frac{a_{21}}{l_{11}}=\\frac{-45}{9} = - 5,$$\n",
    "$$l_{31}=\\frac{a_{31}}{l_{11}}=\\frac{45}{9}=5,$$\n",
    "\n",
    "$$l_{22}=\\sqrt{a_{22}-l_{21}^{2}}=\\sqrt{50 - 25}= 5,$$\n",
    "$$l_{32}=\\frac{1}{l_{22}}\\left ( a_{32}-l_{21}l_{31} \\right)=\\frac{1}{5}\\left ( -15 - (-5)\\cdot 5 \\right )=2,$$\n",
    "\n",
    "$$l_{33}=\\sqrt{a_{33}-l_{31}^{2}-l_{32}^{2}}=\\sqrt{38-25-4}=3.$$\n"
   ]
  },
  {
   "cell_type": "markdown",
   "id": "0521da7e",
   "metadata": {},
   "source": [
    "Получили матрицу:\n",
    "\n",
    "$$L = \\begin{pmatrix}\n",
    "9 & 0 & 0 \\\\ \n",
    "-5 & 5 & 0 \\\\ \n",
    "5 & 2 & 3\n",
    "\\end{pmatrix}, \n",
    "\\; \\; \n",
    "L^{T} = \\begin{pmatrix}\n",
    "9 & -5 & 5 \\\\ \n",
    "0 & 5 & 2 \\\\ \n",
    "0 & 0 & 3\n",
    "\\end{pmatrix}.$$"
   ]
  },
  {
   "cell_type": "markdown",
   "id": "df0d7ebd",
   "metadata": {},
   "source": [
    "Решим систему $Ly=b:$\n",
    "\n",
    "$$\\begin{cases}\n",
    "9y_{1}=531, \\\\\n",
    "-5y_{1}+5y_{2}=-460, \\\\\n",
    "5y_{1}+2y_{2}+3y_{3}=193.\n",
    "\\end{cases}$$\n",
    "\n",
    "$$y_{1} = 59,$$\n",
    "\n",
    "$$y_{2}=-33,$$\n",
    "\n",
    "$$y_{3}=-12.$$"
   ]
  },
  {
   "cell_type": "markdown",
   "id": "1ee4444c",
   "metadata": {},
   "source": [
    "И решим систему $L^{T}x=y:$\n",
    "\n",
    "$$\\begin{cases}\n",
    "9x_{1}-5x_{2}+5x_{3}=59, \\\\\n",
    "5x_{2}+2x_{3}=-33, \\\\\n",
    "3x_{3}=-12.\n",
    "\\end{cases}$$\n",
    "\n",
    "$$x_{3}=-4,$$\n",
    "\n",
    "$$x_{2}=-5,$$\n",
    "\n",
    "$$x_{1}=6.$$"
   ]
  },
  {
   "cell_type": "markdown",
   "id": "49a78592",
   "metadata": {},
   "source": [
    "Осуществим проверку, подставив полученные значения в исходную систему:\n",
    "\n",
    "$$\\begin{cases}\n",
    "81 \\cdot 6 -45 \\cdot (-5) +45 \\cdot (-4)=531 \\\\\n",
    "-45 \\cdot 6 +50 \\cdot (-5 ) - 15 \\cdot (-4) =-460 \\\\\n",
    "45  \\cdot 6 -15 \\cdot (-5) + 38  \\cdot (-4)=193\n",
    "\\end{cases}$$"
   ]
  },
  {
   "cell_type": "markdown",
   "id": "8ca455d2",
   "metadata": {},
   "source": [
    "__Ответ__\n",
    "\n",
    "$$x_{3}=-4,$$\n",
    "\n",
    "$$x_{2}=-5,$$\n",
    "\n",
    "$$x_{1}=6.$$"
   ]
  },
  {
   "cell_type": "markdown",
   "id": "f4e73616",
   "metadata": {},
   "source": [
    "__5*.__ Напишите на Python программу с реализацией одного из изученных алгоритмов решения СЛАУ."
   ]
  },
  {
   "cell_type": "markdown",
   "id": "ebddda20",
   "metadata": {},
   "source": [
    "__Решение__\n",
    "\n",
    "Напишем реализацию метода Гаусса."
   ]
  },
  {
   "cell_type": "code",
   "execution_count": 216,
   "id": "25720427",
   "metadata": {},
   "outputs": [
    {
     "name": "stdout",
     "output_type": "stream",
     "text": [
      "[[  1   3  -2   4   8   3]\n",
      " [  0   2   2  -3   0  -1]\n",
      " [  0   0  31 -49 -48 -24]\n",
      " [  0   0   0   9   9   1]\n",
      " [  0   0   0   0   3   6]]\n",
      "Cистема имеет единственное решение\n",
      "[1.2401433691756267, -2.6702508960573472, -0.6630824372759857, -1.8888888888888888, 2.0]\n"
     ]
    }
   ],
   "source": [
    "\"\"\"Класс для решения СЛАУ, которые имеют единственное решение, методом Гаусса\"\"\"\n",
    "class GaussMethod:\n",
    "    def __init__(self, A, b):\n",
    "        self.A = A\n",
    "        self.b = b\n",
    "        self.n = len(self.A)\n",
    "        self.A_hat = np.hstack((self.A, self.b))\n",
    "\n",
    "    \"\"\"Проверка совместности\"\"\"\n",
    "    def __consistency_check(self):\n",
    "        rnk_A = np.linalg.matrix_rank(self.A)\n",
    "        rnk_Ab = np.linalg.matrix_rank(np.hstack((self.A, self.b)))\n",
    "        #'Cистема несовместна'\n",
    "        if rnk_A < rnk_Ab:\n",
    "            return -1\n",
    "        #'Cистема имеет единственное решение'\n",
    "        elif rnk_A == rnk_Ab == self.n:\n",
    "            return 1\n",
    "        #'Cистема имеет бесконечное количество решений'\n",
    "        elif (rnk_A == rnk_Ab) and (rnk_A < self.n):\n",
    "            return 2\n",
    "\n",
    "    \"\"\"Получение верхнетреугольной матрицы\"\"\"\n",
    "    def _get_triangle_matrix(self):\n",
    "        if self.__consistency_check() == -1 or self.__consistency_check() == 2:\n",
    "            return -1\n",
    "        else:\n",
    "            M = self.A_hat.copy()\n",
    "            for j in range(0, len(M)-1):\n",
    "                for i in range(1, len(M)):\n",
    "                    if i + j < len(M):\n",
    "                        M[i+j, ] = M[i+j, ] - M[j, ] * (M[i+j, j] / M[j, j])\n",
    "            return M\n",
    "\n",
    "    \"\"\"Нахождение неизвестных методом обратного хода Гаусса\"\"\"\n",
    "    def gauss_reverse(self):\n",
    "        M = self._get_triangle_matrix()\n",
    "        if self.__consistency_check() == -1:\n",
    "            print('Cистема несовместна')\n",
    "            return -1\n",
    "        if self.__consistency_check() == 2:\n",
    "            print('Cистема имеет бесконечное количество решений')\n",
    "            return -1\n",
    "        elif self.__consistency_check() == 1:\n",
    "            print('Cистема имеет единственное решение')\n",
    "            M_short = M[:,:-1]\n",
    "            b_short = M[:,-1].reshape(-1, 1)\n",
    "            M_x = [0 for i in range(len(M_short))]\n",
    "            for i in reversed(range(len(M_short))):\n",
    "                x_str = M_short[i,]\n",
    "                c = 0\n",
    "                for idx, el in enumerate(x_str):\n",
    "                    if idx != i:\n",
    "                        c += el * M_x[idx]\n",
    "                x = (b_short[i] - c) / x_str[i]\n",
    "                M_x[i] = x[0]\n",
    "            return M_x\n",
    "\n",
    "\n",
    "# A = np.array([[2, 1, 3], [11, 7, 5], [9, 8, 4]], dtype=np.float64)\n",
    "# b = np.array([1, -6, 5], dtype=np.float64).reshape(-1, 1)\n",
    "\n",
    "# A = np.array([[2,-1, 5], [1, 1, -3], [2, 4, 1]], dtype=np.float64)\n",
    "# b = np.array([10, -2, 1], dtype=np.float64).reshape(-1, 1)\n",
    "\n",
    "# A = np.array([[1, 3, -2, 4], [0, 5, 0, 1], [0, 0, 3, 0], [0, 0, 0, 2]])\n",
    "# b = np.array([3, 2, 4, 1]).reshape(-1, 1)\n",
    "\n",
    "A = np.array([[1, 3, -2, 4, 8], [1, 5, 0, 1, 8], [7, 7, 3, 0, 8], [5, 5, 7, 2, 8], [1, 2, 3, 2, 8]])\n",
    "b = np.array([3, 2, 4, 1, 7]).reshape(-1, 1)\n",
    "\n",
    "matrix = GaussMethod(A, b)\n",
    "print(matrix._get_triangle_matrix())\n",
    "print(matrix.gauss_reverse())\n",
    "        "
   ]
  }
 ],
 "metadata": {
  "kernelspec": {
   "display_name": "Python 3 (ipykernel)",
   "language": "python",
   "name": "python3"
  },
  "language_info": {
   "codemirror_mode": {
    "name": "ipython",
    "version": 3
   },
   "file_extension": ".py",
   "mimetype": "text/x-python",
   "name": "python",
   "nbconvert_exporter": "python",
   "pygments_lexer": "ipython3",
   "version": "3.9.7"
  }
 },
 "nbformat": 4,
 "nbformat_minor": 5
}
