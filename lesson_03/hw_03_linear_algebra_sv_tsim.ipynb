{
 "cells": [
  {
   "cell_type": "markdown",
   "id": "45af184f",
   "metadata": {},
   "source": [
    "# Урок 3"
   ]
  },
  {
   "cell_type": "markdown",
   "id": "1eb32e57",
   "metadata": {},
   "source": [
    "# Линейные преобразования"
   ]
  },
  {
   "cell_type": "markdown",
   "id": "f7cfc954",
   "metadata": {},
   "source": [
    "## Практическое задание"
   ]
  },
  {
   "cell_type": "markdown",
   "id": "94f47117",
   "metadata": {},
   "source": [
    "__1.__ Найдите собственные векторы и собственные значения для линейного оператора, заданного матрицей:\n",
    "\n",
    "$$A=\\begin{pmatrix}\n",
    "-1 & -6\\\\ \n",
    "2 & 6\n",
    "\\end{pmatrix}.$$"
   ]
  },
  {
   "cell_type": "markdown",
   "id": "cba9f43a",
   "metadata": {},
   "source": [
    "__Решение__ \n",
    "\n",
    "$$A=\\begin{pmatrix}\n",
    "-1 & -6\\\\ \n",
    "2 & 6\n",
    "\\end{pmatrix}.$$\n",
    "\n",
    "Векторы коэффициентов разложения векторов $g_{i}$ по базису задают столбцы матрицы линейного оператора. Тогда базисные векторы преобразуются следующим образом:\n",
    "\n",
    "$$Ae_{1}=-1\\cdot e_{1}+2\\cdot e_{2},$$\n",
    "\n",
    "$$Ae_{2}=-6 \\cdot e_{1}+6 \\cdot e_{2}.$$"
   ]
  },
  {
   "cell_type": "markdown",
   "id": "1b9a770b",
   "metadata": {},
   "source": [
    "Теперь найдём собственные значения линейного оператора, составив и решив характеристическое уравнение:\n",
    "\n",
    "$$\\begin{vmatrix}\n",
    "-1-\\lambda & -6\\\\ \n",
    "2 & 6-\\lambda\n",
    "\\end{vmatrix} = 0,$$\n",
    "\n",
    "$$(-1-\\lambda)(6-\\lambda)+2\\cdot6=0,$$\n",
    "\n",
    "$$\\lambda^{2} -5\\lambda + 6 = 0,$$\n",
    "\n",
    "$$D = 1$$\n",
    "\n",
    "$$\\lambda_{1,2} = \\frac{ 5 \\pm \\sqrt{1}} {2}$$\n",
    "\n",
    "$$\\lambda_1 = 3$$\n",
    "\n",
    "$$\\lambda_2 = 2$$"
   ]
  },
  {
   "cell_type": "markdown",
   "id": "f900d657",
   "metadata": {},
   "source": [
    "Для $\\lambda_1 = 3$\n",
    "\n",
    "Найдём собственные векторы вида $\\begin{pmatrix}\n",
    "x_{1}\\\\ \n",
    "x_{2}\n",
    "\\end{pmatrix}$, подставив полученное собственное значение в выражение $\\textbf{A}x=\\lambda x$:\n",
    "\n",
    "$$\\begin{pmatrix}\n",
    "-1 & -6\\\\ \n",
    "2 & 6\n",
    "\\end{pmatrix}\n",
    "\\begin{pmatrix}\n",
    "x_{1}\\\\ \n",
    "x_{2}\n",
    "\\end{pmatrix}=\n",
    "\\lambda\n",
    "\\begin{pmatrix}\n",
    "x_{1}\\\\ \n",
    "x_{2}\n",
    "\\end{pmatrix}.\n",
    "$$"
   ]
  },
  {
   "cell_type": "markdown",
   "id": "415a9751",
   "metadata": {},
   "source": [
    "Получим:\n",
    "\n",
    "$$\\begin{cases}\n",
    "-x_{1}-6x_{2}= 3 \\cdot x_{1}, \\\\\n",
    "2 \\cdot x_{1}+6 \\cdot x_{2}= 3 \\cdot x_{2}.\n",
    "\\end{cases}$$ \n",
    "\n",
    "$$\\begin{cases}\n",
    "x_{1}= -\\frac{3x_2}{2}, \\\\\n",
    "x_{2}= -\\frac{2x_1}{3}.\n",
    "\\end{cases}$$ \n",
    "\n",
    "__Таким образом, получается, придавая переменной y произвольные значения, получаем бесконечное множество собственных веторов, которые коллинеарны друг другу. Например, возьмем произвольные знанения, x1 = -3, тогда x2 = 2__\n",
    "\n",
    "$$\\begin{cases}\n",
    "x_{1}= -3, \\\\\n",
    "x_{2}= 2.\n",
    "\\end{cases}$$ \n",
    "\n",
    "__Ниже, с помощью модуля np.linalg.eig подобраны значения:__\n",
    "\n",
    "$$\\begin{cases}\n",
    "x_{1}= 0.8321, \\\\\n",
    "x_{2}= -0.5547.\n",
    "\\end{cases}$$ \n",
    "\n"
   ]
  },
  {
   "cell_type": "markdown",
   "id": "91826e88",
   "metadata": {},
   "source": [
    "Для $\\lambda_2 = 2$\n",
    "\n",
    "Найдём собственные векторы вида $\\begin{pmatrix}\n",
    "x_{1}\\\\ \n",
    "x_{2}\n",
    "\\end{pmatrix}$, подставив полученное собственное значение в выражение $\\textbf{A}x=\\lambda x$:\n",
    "\n",
    "$$\\begin{pmatrix}\n",
    "-1 & -6\\\\ \n",
    "2 & 6\n",
    "\\end{pmatrix}\n",
    "\\begin{pmatrix}\n",
    "x_{1}\\\\ \n",
    "x_{2}\n",
    "\\end{pmatrix}=\n",
    "\\lambda\n",
    "\\begin{pmatrix}\n",
    "x_{1}\\\\ \n",
    "x_{2}\n",
    "\\end{pmatrix}.\n",
    "$$"
   ]
  },
  {
   "cell_type": "markdown",
   "id": "5b750b39",
   "metadata": {},
   "source": [
    "Получим:\n",
    "\n",
    "$$\\begin{cases}\n",
    "-x_{1}-6x_{2}= 2 \\cdot x_{1}, \\\\\n",
    "2 \\cdot x_{1}+6 \\cdot x_{2}= 2 \\cdot x_{2}.\n",
    "\\end{cases}$$ \n",
    "\n",
    "$$\\begin{cases}\n",
    "x_{1}= -2{x_2}, \\\\\n",
    "x_{2}= -\\frac{x_1}{2}.\n",
    "\\end{cases}$$ \n",
    "\n",
    "__Таким образом, получается, придавая переменной y произвольные значения, получаем бесконечное множество собственных веторов, которые коллинеарны друг другу. Например, возьмем произвольные знанения, x1 = -2, тогда x2 = 1__\n",
    "\n",
    "$$\\begin{cases}\n",
    "x_{1}= -2, \\\\\n",
    "x_{2}= 1.\n",
    "\\end{cases}$$ \n",
    "\n",
    "__Ниже, с помощью модуля np.linalg.eig подобраны значения:__\n",
    "\n",
    "$$\\begin{cases}\n",
    "x_{1}= -0.8944, \\\\\n",
    "x_{2}= 0.4472.\n",
    "\\end{cases}$$ \n",
    "\n"
   ]
  },
  {
   "cell_type": "code",
   "execution_count": 3,
   "id": "aebc03ca",
   "metadata": {},
   "outputs": [],
   "source": [
    "import numpy as np\n",
    "\n",
    "np.set_printoptions(precision=4, suppress=True)"
   ]
  },
  {
   "cell_type": "code",
   "execution_count": 4,
   "id": "c2c112e1",
   "metadata": {},
   "outputs": [
    {
     "name": "stdout",
     "output_type": "stream",
     "text": [
      "Матрица A:\n",
      "[[-1 -6]\n",
      " [ 2  6]]\n",
      "Собственные значения:\n",
      "[2. 3.]\n",
      "Собственные векторы:\n",
      "[[-0.8944  0.8321]\n",
      " [ 0.4472 -0.5547]]\n"
     ]
    }
   ],
   "source": [
    "a = np.array([[-1, -6], [2, 6]])\n",
    "w, v = np.linalg.eig(a)\n",
    " \n",
    "print(f'Матрица A:\\n{a}')\n",
    "print(f'Собственные значения:\\n{w}')\n",
    "print(f'Собственные векторы:\\n{v}')"
   ]
  },
  {
   "cell_type": "markdown",
   "id": "8d50b48c",
   "metadata": {},
   "source": [
    "__2.__ Дан оператор поворота на 180 градусов, задаваемый матрицей:\n",
    "\n",
    "$$A=\\begin{pmatrix}\n",
    "-1 & 0\\\\ \n",
    "0 & -1\n",
    "\\end{pmatrix}.$$\n",
    "\n",
    "Покажите, что __любой__ вектор считается для него собственным."
   ]
  },
  {
   "cell_type": "markdown",
   "id": "be6fcb6c",
   "metadata": {},
   "source": [
    "__Решение__ \n",
    "\n",
    "$$A=\\begin{pmatrix}\n",
    "-1 & 0\\\\ \n",
    "0 & -1\n",
    "\\end{pmatrix}.$$\n",
    "\n",
    "Найдем собственные значения:\n",
    "\n",
    "$$\\begin{vmatrix}\n",
    "-1-\\lambda & 0\\\\ \n",
    "0 & -1-\\lambda\n",
    "\\end{vmatrix} = 0,$$\n",
    "\n",
    "$$(-1-\\lambda)(-1-\\lambda)- 0=0,$$\n",
    "\n",
    "$$(-1-\\lambda)^2 =0,$$\n",
    "\n",
    "$$-1-\\lambda =0,$$\n",
    "\n",
    "$$\\lambda =-1,$$\n"
   ]
  },
  {
   "cell_type": "markdown",
   "id": "2b7d0bce",
   "metadata": {},
   "source": [
    "Найдём собственные векторы вида $\\begin{pmatrix}\n",
    "x_{1}\\\\ \n",
    "x_{2}\n",
    "\\end{pmatrix}$, подставив полученное собственное значение в выражение $\\textbf{A}x=\\lambda x$:"
   ]
  },
  {
   "cell_type": "markdown",
   "id": "5a50acd6",
   "metadata": {},
   "source": [
    "$$\\begin{pmatrix}\n",
    "-1 & 0\\\\ \n",
    "0 & -1\n",
    "\\end{pmatrix}\n",
    "\\begin{pmatrix}\n",
    "x_{1}\\\\ \n",
    "x_{2}\n",
    "\\end{pmatrix}=\n",
    "-1\n",
    "\\begin{pmatrix}\n",
    "x_{1}\\\\ \n",
    "x_{2}\n",
    "\\end{pmatrix}.\n",
    "$$"
   ]
  },
  {
   "cell_type": "markdown",
   "id": "fe7747e5",
   "metadata": {},
   "source": [
    "Получим:\n",
    "\n",
    "$$\\begin{cases}\n",
    "-1 \\cdot x_{1}+ 0 \\cdot x_{2}= -1 \\cdot x_{1}, \\\\\n",
    "0 \\cdot x_{1}-1 \\cdot x_{2}= -1 \\cdot x_{2}.\n",
    "\\end{cases}$$ \n",
    "\n",
    "$$\\begin{cases}\n",
    "-x_{1}= -x_{1}, \\\\\n",
    "-x_{2}= -x_{2}.\n",
    "\\end{cases}$$ \n",
    "\n",
    "__Так как в данную систему мы можем подставить абсолютно любые значения x1 и x2, соответственно для данной системы подходит любой вектор, с любыми координатами. Таким образом, любой вектор будет считаться собственным для оператора поворота на 180 градусов, что логично, так как поворот на 180 градусов - это поворот в противоположное направление (все вектора сохраняют свое местоположение, только становятся направлены в противоположную сторону (умножаются на -1), при этом коллинеарность сохраняется).__"
   ]
  },
  {
   "cell_type": "markdown",
   "id": "d9de2683",
   "metadata": {},
   "source": [
    "__3.__ Пусть линейный оператор задан матрицей:\n",
    "\n",
    "$$A=\\begin{pmatrix}\n",
    "1 & 1\\\\ \n",
    "-1 & 3\n",
    "\\end{pmatrix}.$$\n",
    "\n",
    "Установите, считается ли вектор $x=(1,1)$ собственным вектором этого линейного оператора.\n"
   ]
  },
  {
   "cell_type": "markdown",
   "id": "bc04d45a",
   "metadata": {},
   "source": [
    "__Решение__ \n",
    "\n",
    "$$A=\\begin{pmatrix}\n",
    "1 & 1\\\\ \n",
    "-1 & 3\n",
    "\\end{pmatrix}.$$\n",
    "\n",
    "вектор $x=(1,1)$ \n"
   ]
  },
  {
   "cell_type": "markdown",
   "id": "e95cdc2c",
   "metadata": {},
   "source": [
    "Предположим, что вектор $x$ считается собственным вектором заданного линейного оператора, тогда должно существовать некоторое вещественное число $\\lambda$, при котором:\n",
    "\n",
    "$$\\begin{pmatrix}\n",
    "1 & 1\\\\ \n",
    "-1 & 3\n",
    "\\end{pmatrix}\n",
    "\\begin{pmatrix}\n",
    "1\\\\ \n",
    "1 \n",
    "\\end{pmatrix}=\n",
    "\\lambda\n",
    "\\begin{pmatrix}\n",
    "1\\\\ \n",
    "1\n",
    "\\end{pmatrix}.\n",
    "$$\n"
   ]
  },
  {
   "cell_type": "markdown",
   "id": "2c9d8e59",
   "metadata": {},
   "source": [
    "\n",
    "$$\\begin{cases}\n",
    "1+1=1\\cdot\\lambda \\\\ \n",
    "-1+3 = 1\\cdot \\lambda\n",
    "\\end{cases}\n",
    "\\Rightarrow\n",
    "\\begin{cases}\n",
    "\\lambda=2\\\\ \n",
    "\\lambda=2\n",
    "\\end{cases}.$$\n",
    "\n",
    "Такая система имеет решение 2, следовательно, вектор  $x=(1,1)$ __считается собственным вектором__ линейного оператора, заданного матрицей $A$."
   ]
  },
  {
   "cell_type": "code",
   "execution_count": 6,
   "id": "0b53d7f8",
   "metadata": {},
   "outputs": [
    {
     "name": "stdout",
     "output_type": "stream",
     "text": [
      "Матрица A:\n",
      "[[ 1  1]\n",
      " [-1  3]]\n",
      "Собственные значения:\n",
      "[2. 2.]\n",
      "Собственные векторы:\n",
      "[[ 0.7071 -0.7071]\n",
      " [ 0.7071 -0.7071]]\n"
     ]
    }
   ],
   "source": [
    "a = np.array([[1, 1], [-1, 3]])\n",
    "w, v = np.linalg.eig(a)\n",
    " \n",
    "print(f'Матрица A:\\n{a}')\n",
    "print(f'Собственные значения:\\n{w}')\n",
    "print(f'Собственные векторы:\\n{v}')"
   ]
  },
  {
   "cell_type": "markdown",
   "id": "f354c5ac",
   "metadata": {},
   "source": [
    "**4.** Пусть линейный оператор задан матрицей:\n",
    "\n",
    "$$A=\\begin{pmatrix} 0 & 3 & 0\\\\ 3 & 0 & 0\\\\ 0 & 0 & 3 \\end{pmatrix}.$$\n",
    "\n",
    "Установите, считается ли вектор $x=(3, -3, -4)$ собственным вектором этого линейного оператора."
   ]
  },
  {
   "cell_type": "markdown",
   "id": "dc6b1b44",
   "metadata": {},
   "source": [
    "__Решение__ \n",
    "\n",
    "Предположим, что вектор $x$ считается собственным вектором заданного линейного оператора. Тогда:\n",
    "\n",
    "\n",
    "$$\\begin{pmatrix}\n",
    "0 & 3 & 0\\\\ \n",
    "3 & 0 & 0\\\\\n",
    "0 & 0 & 3\n",
    "\\end{pmatrix}\n",
    "\\begin{pmatrix}\n",
    "3\\\\\n",
    "-3\\\\\n",
    "-4\n",
    "\\end{pmatrix}=\n",
    "\\lambda\n",
    "\\begin{pmatrix}\n",
    "3\\\\\n",
    "-3\\\\\n",
    "-4\n",
    "\\end{pmatrix}\n",
    "$$\n",
    "\n",
    "$$\\Rightarrow\n",
    "\\begin{cases}\n",
    "3\\lambda=-9\\\\ \n",
    "-3\\lambda=9\\\\\n",
    "-4\\lambda=-12\n",
    "\\end{cases}\n",
    "\\Rightarrow\n",
    "\\begin{cases}\n",
    "\\lambda=-3\\\\ \n",
    "\\lambda=3\n",
    "\\end{cases}.$$\n",
    "\n",
    "Такая система не имеет смысла, следовательно, __вектор  $x=(3, -3, -4)$ не считается собственным вектором__ линейного оператора, заданного матрицей $A$."
   ]
  },
  {
   "cell_type": "code",
   "execution_count": 7,
   "id": "24c3803c",
   "metadata": {},
   "outputs": [
    {
     "name": "stdout",
     "output_type": "stream",
     "text": [
      "Матрица A:\n",
      "[[0 3 0]\n",
      " [3 0 0]\n",
      " [0 0 3]]\n",
      "Собственные значения:\n",
      "[ 3. -3.  3.]\n",
      "Собственные векторы:\n",
      "[[ 0.7071 -0.7071  0.    ]\n",
      " [ 0.7071  0.7071  0.    ]\n",
      " [ 0.      0.      1.    ]]\n"
     ]
    }
   ],
   "source": [
    "a = np.array([[0, 3, 0], [3, 0, 0], [0, 0, 3]])\n",
    "w, v = np.linalg.eig(a)\n",
    " \n",
    "print(f'Матрица A:\\n{a}')\n",
    "print(f'Собственные значения:\\n{w}')\n",
    "print(f'Собственные векторы:\\n{v}')"
   ]
  }
 ],
 "metadata": {
  "kernelspec": {
   "display_name": "Python 3 (ipykernel)",
   "language": "python",
   "name": "python3"
  },
  "language_info": {
   "codemirror_mode": {
    "name": "ipython",
    "version": 3
   },
   "file_extension": ".py",
   "mimetype": "text/x-python",
   "name": "python",
   "nbconvert_exporter": "python",
   "pygments_lexer": "ipython3",
   "version": "3.9.7"
  }
 },
 "nbformat": 4,
 "nbformat_minor": 5
}
