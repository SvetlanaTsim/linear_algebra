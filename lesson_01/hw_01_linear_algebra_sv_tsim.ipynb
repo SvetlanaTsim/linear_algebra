{
 "cells": [
  {
   "cell_type": "markdown",
   "id": "177203c2",
   "metadata": {},
   "source": [
    "# Урок 1"
   ]
  },
  {
   "cell_type": "markdown",
   "id": "c4a5e6e4",
   "metadata": {},
   "source": [
    "# Линейное пространство. Основные понятия. Часть 1"
   ]
  },
  {
   "cell_type": "code",
   "execution_count": 58,
   "id": "f1ad4a48",
   "metadata": {},
   "outputs": [],
   "source": [
    "import numpy as np\n",
    "from numpy.linalg import norm\n",
    "from math import acos, pi"
   ]
  },
  {
   "cell_type": "markdown",
   "id": "e73a08ed",
   "metadata": {},
   "source": [
    "## Практическое задание. Часть 1"
   ]
  },
  {
   "cell_type": "markdown",
   "id": "6c1920ab",
   "metadata": {},
   "source": [
    "__1.__ Исследуйте на линейную зависимость:\n",
    "\n",
    "$$f_{1}(x)=e^{x}, f_{2}(x)=1, f_{3}(x)=x+1, f_{4}(x)=x-e^{x}.$$\n"
   ]
  },
  {
   "cell_type": "markdown",
   "id": "93b89925",
   "metadata": {},
   "source": [
    "__1.__ Решение:\n",
    "\n",
    "Заметим, что\n",
    "$$ 1 * (e^{x}) + 1 * (1) + (-1) * (x + 1) + 1 * (x - e^{x}) = 0$$\n",
    "\n",
    "То есть\n",
    "$$ 1 * f_{1}(x) + 1 * f_{2}(x) + (-1) *  f_{3}(x) + 1 *  f_{4}(x) = 0$$\n",
    "\n",
    "Что означает, что функции линейно зависимы."
   ]
  },
  {
   "cell_type": "markdown",
   "id": "8904d36d",
   "metadata": {},
   "source": [
    "__2.__ Исследуйте на линейную зависимость:\n",
    "$$f_{1}(x)=2, f_{2}(x)=x, f_{3}(x)=x^{2}, f_{4}(x)=(x+1)^{2}$$"
   ]
  },
  {
   "cell_type": "markdown",
   "id": "5b22a36f",
   "metadata": {},
   "source": [
    "__2.__ Решение:\n",
    "\n",
    "Заметим, что\n",
    "$$ (x + 1)^2 = 1 * x^2 + 2 * x + 0.5 * 2$$\n",
    "\n",
    "То есть\n",
    "$$f_{4}(x) = 1 * f_{3}(x) + 2 * f_{2}(x) + 0.5 * f_{1}(x)$$\n",
    "\n",
    "Что означает, что функции линейно зависимы.\n"
   ]
  },
  {
   "cell_type": "markdown",
   "id": "44a20b04",
   "metadata": {},
   "source": [
    "__3.__ Найдите координаты вектора $x = (2, 3, 5)\\in \\mathbb{R}^{3}$ в базисе $b_{1}=(0, 0, 10)$, $b_{2}=(2, 0, 0)$, $b_{3}=(0, 1, 0)$."
   ]
  },
  {
   "cell_type": "markdown",
   "id": "b3657106",
   "metadata": {},
   "source": [
    "__3.__ Решение:\n",
    "\n",
    "Совокупность $n$ линейно независимых векторов линейного пространства $V$ будет называться _базисом_ этого пространства, если для каждого элемента $u$ пространства $V$ найдутся такие вещественные числа $\\xi_{1},\\xi_{2}. . . , \\xi_{n}$, что справедливо равенство:\n",
    "\n",
    "$$u = \\xi_{1}e_{1} + \\xi_{2}e_{2} + . . . + \\xi_{n}e_{n}.$$\n",
    "\n",
    "Коэффициенты $\\xi_{i}$ в этом выражении называются _координатами_ вектора $u$ в базисе $e_{1}  . . . , e_{n}$, а само такое представление вектора $u$ — _разложением этого вектора по базису_.\n",
    "\n",
    "$$x = 0.5b_{1} + 1b_{2} + 3b_{3}$$\n",
    "**Ответ**:  $x = (0.5, 1, 3)$ -  координаты вектора $x = (2, 3, 5)$ в базисе $b_{1}=(0, 0, 10)$, $b_{2}=(2, 0, 0)$, $b_{3}=(0, 1, 0)$\n"
   ]
  },
  {
   "cell_type": "markdown",
   "id": "76390b8d",
   "metadata": {},
   "source": [
    "__4.__ Найдите координаты вектора $3x^{2}-2x+2\\in\\mathbb{R}^{3}[x]$:\n",
    "\n",
    "а) в базисе $1$, $x$, $x^{2}$;\n",
    "\n",
    "б) в базисе $x^{2}$, $x-1$, $1$."
   ]
  },
  {
   "cell_type": "markdown",
   "id": "6d15e69b",
   "metadata": {},
   "source": [
    "__4.__ Решение. Найдите координаты вектора $3x^{2}-2x+2\\in\\mathbb{R}^{3}[x]$:\n",
    "\n",
    "а) в базисе $1$, $x$, $x^{2}$;\n",
    "\n",
    "$$u = \\xi_{1}e_{1} + \\xi_{2}e_{2} + . . . + \\xi_{n}e_{n}.$$\n",
    "\n",
    "$$e_{1} = 1$$\n",
    "$$e_{2} = x$$\n",
    "$$e_{3} = x^2$$\n",
    "\n",
    "Разложим данный вектор по базису:\n",
    "$$3x^{2}-2x+2 = 3 * e_{3} + (-2) * e_{2} + 2* e_{1}.$$\n",
    "**Ответ**: $(2, -2, 3)$ координаты вектора $3x^{2}-2x+2$ в базисе $1$, $x$, $x^{2}$"
   ]
  },
  {
   "cell_type": "markdown",
   "id": "383087b9",
   "metadata": {},
   "source": [
    "б) в базисе $x^{2}$, $x-1$, $1$.\n",
    "\n",
    "$$u = \\xi_{1}e_{1} + \\xi_{2}e_{2} + . . . + \\xi_{n}e_{n}.$$\n",
    "\n",
    "$$e_{1} = x^2$$\n",
    "$$e_{2} = x - 1$$\n",
    "$$e_{3} = 1$$\n",
    "\n",
    "Разложим данный вектор по базису:\n",
    "$$3x^{2}-2x+2 = 3 * e_{1} + (-2) * e_{2} + 0* e_{3}.$$\n",
    "**Ответ**: $(3, -2, 0)$ координаты вектора $3x^{2}-2x+2$ в базисе $x^{2}$, $x-1$, $1$"
   ]
  },
  {
   "cell_type": "markdown",
   "id": "824a81d5",
   "metadata": {},
   "source": [
    "__5.__ Установите, считается ли линейным подпространством:\n",
    "\n",
    "а) совокупность всех векторов трёхмерного пространства, у которых по крайней мере одна из первых двух координат равна нулю;\n",
    "    \n",
    "б) все векторы, считающиеся линейными комбинациями данных векторов $\\{u_{1}, u_{2} \\ldots, u_{n}\\}$."
   ]
  },
  {
   "cell_type": "markdown",
   "id": "d820fa86",
   "metadata": {},
   "source": [
    "__5.__ Решение:\n",
    "\n",
    "а) совокупность всех векторов трёхмерного пространства, у которых по крайней мере одна из первых двух координат равна нулю;\n",
    "\n",
    "то есть это ветора типа **(0, y, z) и (x, 0, z)**.\n",
    "\n",
    "Подмножество $L$ линейного пространства $V$ считается его подпространством только тогда, когда для любых элементов $u, v\\in L$ и любого $\\alpha \\in \\mathbb{R}$ выполняются условия:\n",
    "\n",
    "$$1)\\ u+v\\in L;$$\n",
    "\n",
    "$$2)\\ \\alpha\\cdot u \\in L.$$\n",
    "\n",
    "Проверим выполнение этих условий.\n",
    "\n",
    "1. Сложение\n",
    "\n",
    "(0, y1, z1) + (x2, 0, z2) = (x2, y1, z1+z2).\n",
    "\n",
    "Получившийся вектор (x2, y1, z1+z2) уже не входит в группу векторов типа (0, y, z) и (x, 0, z).\n",
    "\n",
    "2. Умножение\n",
    "\n",
    "$(0, y_1, z_1) * \\alpha  = (0, y_1*\\alpha, z_1*\\alpha)$\n",
    "\n",
    "$(x_2, 0, z_2) * \\alpha  = (x_2*\\alpha, 0, z_2*\\alpha)$\n",
    "\n",
    "Получившиеся вектора входят в группу векторов типа (0, y, z) и (x, 0, z).\n",
    "\n",
    "**Ответ**: совокупность всех векторов трёхмерного пространства, у которых по крайней мере одна из первых двух координат равна нулю НЕ считается линейным подпространством, так как не выполняется условие замкнутости по сложению.\n"
   ]
  },
  {
   "cell_type": "markdown",
   "id": "e807ee37",
   "metadata": {},
   "source": [
    "б) все векторы, считающиеся линейными комбинациями данных векторов $\\{u_{1}, u_{2} \\ldots, u_{n}\\}$.\n",
    "\n",
    "Да, так как сложение и умножение, относительно которых должно быть замкнуто линейное подпространство, относится к линейным комбинациям над данными векторами.\n",
    "\n",
    "**Более формальное решение:**\n",
    "\n",
    "Любой вектор множества можно представить в виде $$\\sum_{t=1}^{n}\\lambda_{t}u_{t}$$\n",
    "Сумма двух векторов: $$\\sum_{t=1}^{n}\\alpha_{t}u_{t} + \\sum_{t=1}^{n}\\beta_{t}u_{t} = \\sum_{t=1}^{n}(\\alpha_{t} + \\beta_{t})u_{t} =\\sum_{t=1}^{n}\\lambda_{t}u_{t} $$\n",
    "Произведение вектора на число: $$\\alpha \\cdot \\sum_{t=1}^{n}\\lambda_{t}u_{t} = \\sum_{t=1}^{n}\\alpha \\cdot \\lambda_{t}u_{t} = \\sum_{t=1}^{n}\\beta_{t}u_{t}$$\n",
    "\n",
    "Т.к. полученные вектора принадлежат указанному множеству, поэтому указанное множество векторов является линейным подпространством.\n",
    "\n",
    "**Ответ**: все векторы, считающиеся линейными комбинациями данных векторов $\\{u_{1}, u_{2} \\ldots, u_{n}\\}$ считается линейным подпространством.\n"
   ]
  },
  {
   "cell_type": "markdown",
   "id": "620ee3f9",
   "metadata": {},
   "source": [
    "## Практическое задание. Часть 2."
   ]
  },
  {
   "cell_type": "markdown",
   "id": "59da6991",
   "metadata": {},
   "source": [
    "__1.__ Найдите скалярное произведение векторов $x, y \\in \\mathbb{R}$:<br>\n",
    "а) $x=(0,-3, 6),~y=(-4, 7, 9);$<br>\n",
    "б) $x=(7, -4, 0, 1),~y=(-3, 1, 11, 2).$"
   ]
  },
  {
   "cell_type": "markdown",
   "id": "9bd19f92",
   "metadata": {},
   "source": [
    "__1.__ Решение:\n",
    "а) $x=(0,-3, 6),~y=(-4, 7, 9);$<br>"
   ]
  },
  {
   "cell_type": "code",
   "execution_count": 59,
   "id": "52f33709",
   "metadata": {},
   "outputs": [
    {
     "data": {
      "text/plain": [
       "33"
      ]
     },
     "execution_count": 59,
     "metadata": {},
     "output_type": "execute_result"
    }
   ],
   "source": [
    "res = 0 * (-4) + (-3) * 7 + 6 * 9\n",
    "res"
   ]
  },
  {
   "cell_type": "code",
   "execution_count": 60,
   "id": "c8eb14a2",
   "metadata": {},
   "outputs": [
    {
     "data": {
      "text/plain": [
       "array([ 0, -3,  6])"
      ]
     },
     "execution_count": 60,
     "metadata": {},
     "output_type": "execute_result"
    }
   ],
   "source": [
    "x = np.array([0,-3, 6])\n",
    "x"
   ]
  },
  {
   "cell_type": "code",
   "execution_count": 61,
   "id": "2616b110",
   "metadata": {},
   "outputs": [
    {
     "data": {
      "text/plain": [
       "array([-4,  7,  9])"
      ]
     },
     "execution_count": 61,
     "metadata": {},
     "output_type": "execute_result"
    }
   ],
   "source": [
    "y = np.array([-4, 7, 9])\n",
    "y"
   ]
  },
  {
   "cell_type": "code",
   "execution_count": 62,
   "id": "4bc489fa",
   "metadata": {},
   "outputs": [
    {
     "data": {
      "text/plain": [
       "33"
      ]
     },
     "execution_count": 62,
     "metadata": {},
     "output_type": "execute_result"
    }
   ],
   "source": [
    "np.dot(x, y)"
   ]
  },
  {
   "cell_type": "markdown",
   "id": "f5911f49",
   "metadata": {},
   "source": [
    "б) $x=(7, -4, 0, 1),~y=(-3, 1, 11, 2).$"
   ]
  },
  {
   "cell_type": "code",
   "execution_count": 63,
   "id": "1f3420e8",
   "metadata": {},
   "outputs": [
    {
     "data": {
      "text/plain": [
       "-23"
      ]
     },
     "execution_count": 63,
     "metadata": {},
     "output_type": "execute_result"
    }
   ],
   "source": [
    "res_b  = 7 * (-3) + (-4) * 1 + 0 * 11 + 1 * 2\n",
    "res_b "
   ]
  },
  {
   "cell_type": "code",
   "execution_count": 64,
   "id": "0007d2b5",
   "metadata": {},
   "outputs": [
    {
     "data": {
      "text/plain": [
       "array([ 7, -4,  0,  1])"
      ]
     },
     "execution_count": 64,
     "metadata": {},
     "output_type": "execute_result"
    }
   ],
   "source": [
    "x_b = np.array([7, -4, 0, 1])\n",
    "x_b"
   ]
  },
  {
   "cell_type": "code",
   "execution_count": 65,
   "id": "5bf77d87",
   "metadata": {},
   "outputs": [
    {
     "data": {
      "text/plain": [
       "array([-3,  1, 11,  2])"
      ]
     },
     "execution_count": 65,
     "metadata": {},
     "output_type": "execute_result"
    }
   ],
   "source": [
    "y_b = np.array([-3, 1, 11, 2])\n",
    "y_b"
   ]
  },
  {
   "cell_type": "code",
   "execution_count": 66,
   "id": "b61e45b9",
   "metadata": {},
   "outputs": [
    {
     "data": {
      "text/plain": [
       "-23"
      ]
     },
     "execution_count": 66,
     "metadata": {},
     "output_type": "execute_result"
    }
   ],
   "source": [
    "np.dot(x_b, y_b)"
   ]
  },
  {
   "cell_type": "markdown",
   "id": "bf043e85",
   "metadata": {},
   "source": [
    "__2.__ Найдите нормы векторов $(4, 2, 4)$ и $(12, 3, 4)$ и угол между ними."
   ]
  },
  {
   "cell_type": "markdown",
   "id": "07d643cc",
   "metadata": {},
   "source": [
    "__2.__ Решение:\n",
    "\n",
    "Найдем эти варианты норм:\n",
    "\n",
    "- при $p = 1$ получаем $\\ell_{1}$ норму — _манхэттенская норма_, или _манхэттенское расстояние_:\n",
    "\n",
    "$$\\left\\|x\\right\\|_{1} = \\sum_{i}|x_{i}|;$$\n",
    "\n",
    "- при $p = 2$ получаем $\\ell_{2}$ норму — _евклидова норма_, часто используемая:\n",
    "\n",
    "$$\\left\\|x\\right\\|_{2} = \\sqrt{\\sum_{i}|x_{i}|^{2}}.$$\n",
    "\n",
    "Косинус угла будем находить по формуле:\n",
    "\n",
    "В любом вещественном евклидовом пространстве можно ввести понятие _угла_ между двумя произвольными элементами $x$ и $y$. Углом $\\varphi \\in [0, \\pi]$ между этими элементами назовём угол, косинус которого определяется соотношением:\n",
    "\n",
    "$$cos\\varphi = \\frac{(x,y)}{\\left \\|x\\right \\|\\cdot\\left \\|y\\right \\|}.$$"
   ]
  },
  {
   "cell_type": "code",
   "execution_count": 67,
   "id": "08a4fc81",
   "metadata": {},
   "outputs": [
    {
     "data": {
      "text/plain": [
       "10"
      ]
     },
     "execution_count": 67,
     "metadata": {},
     "output_type": "execute_result"
    }
   ],
   "source": [
    "#вручную\n",
    "#манхэттенское расстояние\n",
    "\n",
    "norm_x1 = 4 + 2 + 4\n",
    "norm_x1"
   ]
  },
  {
   "cell_type": "code",
   "execution_count": 68,
   "id": "3a9a0219",
   "metadata": {},
   "outputs": [
    {
     "data": {
      "text/plain": [
       "19"
      ]
     },
     "execution_count": 68,
     "metadata": {},
     "output_type": "execute_result"
    }
   ],
   "source": [
    "norm_x2 = 12 + 3 + 4 \n",
    "norm_x2 "
   ]
  },
  {
   "cell_type": "code",
   "execution_count": 69,
   "id": "30583398",
   "metadata": {},
   "outputs": [
    {
     "data": {
      "text/plain": [
       "6.0"
      ]
     },
     "execution_count": 69,
     "metadata": {},
     "output_type": "execute_result"
    }
   ],
   "source": [
    "#евклидова норма\n",
    "norm_ev_x1 = np.sqrt(4 ** 2 + 2 ** 2 + 4 ** 2)\n",
    "norm_ev_x1"
   ]
  },
  {
   "cell_type": "code",
   "execution_count": 70,
   "id": "b4b51a07",
   "metadata": {},
   "outputs": [
    {
     "data": {
      "text/plain": [
       "13.0"
      ]
     },
     "execution_count": 70,
     "metadata": {},
     "output_type": "execute_result"
    }
   ],
   "source": [
    "norm_ev_x2 = np.sqrt(12 ** 2 + 3 ** 2 + 4 ** 2)\n",
    "norm_ev_x2"
   ]
  },
  {
   "cell_type": "code",
   "execution_count": 71,
   "id": "de522790",
   "metadata": {},
   "outputs": [
    {
     "data": {
      "text/plain": [
       "(array([4, 2, 4]), array([12,  3,  4]))"
      ]
     },
     "execution_count": 71,
     "metadata": {},
     "output_type": "execute_result"
    }
   ],
   "source": [
    "#c помощью norm\n",
    "\n",
    "x1 = np.array([4, 2, 4])\n",
    "\n",
    "x2 = np.array([12, 3, 4])\n",
    "\n",
    "x1, x2"
   ]
  },
  {
   "cell_type": "code",
   "execution_count": 72,
   "id": "e1db189b",
   "metadata": {},
   "outputs": [
    {
     "name": "stdout",
     "output_type": "stream",
     "text": [
      "Манхэттенская норма вектора x1:\n",
      "10.0\n"
     ]
    }
   ],
   "source": [
    "print(f'Манхэттенская норма вектора x1:\\n{norm(x1, ord=1)}')"
   ]
  },
  {
   "cell_type": "code",
   "execution_count": 73,
   "id": "9f02b1fe",
   "metadata": {},
   "outputs": [
    {
     "name": "stdout",
     "output_type": "stream",
     "text": [
      "Манхэттенская норма вектора x2:\n",
      "19.0\n"
     ]
    }
   ],
   "source": [
    "print(f'Манхэттенская норма вектора x2:\\n{norm(x2, ord=1)}')"
   ]
  },
  {
   "cell_type": "code",
   "execution_count": 74,
   "id": "add1a8d8",
   "metadata": {},
   "outputs": [
    {
     "name": "stdout",
     "output_type": "stream",
     "text": [
      "Евклидова норма вектора x1:\n",
      "6.0\n"
     ]
    }
   ],
   "source": [
    "print(f'Евклидова норма вектора x1:\\n{norm(x1, ord=2)}')"
   ]
  },
  {
   "cell_type": "code",
   "execution_count": 75,
   "id": "b344396b",
   "metadata": {},
   "outputs": [
    {
     "name": "stdout",
     "output_type": "stream",
     "text": [
      "Евклидова норма вектора x2:\n",
      "13.0\n"
     ]
    }
   ],
   "source": [
    "print(f'Евклидова норма вектора x2:\\n{norm(x2, ord=2)}')"
   ]
  },
  {
   "cell_type": "code",
   "execution_count": 76,
   "id": "53ec7f07",
   "metadata": {},
   "outputs": [
    {
     "data": {
      "text/plain": [
       "0.8974358974358974"
      ]
     },
     "execution_count": 76,
     "metadata": {},
     "output_type": "execute_result"
    }
   ],
   "source": [
    "cos_phi = np.dot(x1, x2) / norm(x1) / norm(x2)\n",
    "cos_phi"
   ]
  },
  {
   "cell_type": "markdown",
   "id": "369b786f",
   "metadata": {},
   "source": [
    "Пересчитаем вручную:\n",
    "    \n",
    "    \n",
    "$$cos\\varphi = \\frac{(x,y)}{\\left \\|x\\right \\|\\cdot\\left \\|y\\right \\|}.$$"
   ]
  },
  {
   "cell_type": "code",
   "execution_count": 77,
   "id": "a0487bde",
   "metadata": {},
   "outputs": [
    {
     "data": {
      "text/plain": [
       "0.8974358974358975"
      ]
     },
     "execution_count": 77,
     "metadata": {},
     "output_type": "execute_result"
    }
   ],
   "source": [
    "cos_phi_1 = (4 * 12 + 2 * 3 + 4 * 4) / (norm_ev_x1 * norm_ev_x2)\n",
    "cos_phi_1"
   ]
  },
  {
   "cell_type": "code",
   "execution_count": 78,
   "id": "36fe6106",
   "metadata": {},
   "outputs": [
    {
     "name": "stdout",
     "output_type": "stream",
     "text": [
      "Косинус угла между векторами 0.90\n",
      "Угол в радианах 0.46\n",
      "Угол в градусах 26.18\n"
     ]
    }
   ],
   "source": [
    "print(f'Косинус угла между векторами {cos_phi:.2f}')\n",
    "print(f'Угол в радианах {acos(cos_phi_1):.2f}')\n",
    "print(f'Угол в градусах {(acos(cos_phi_1) * 180) / pi :.2f}')"
   ]
  },
  {
   "cell_type": "markdown",
   "id": "5b910430",
   "metadata": {},
   "source": [
    "__3.__ Определите, будет ли линейное пространство евклидовым, если за скалярное произведение принять:<br>\n",
    "а) произведение длин векторов;<br>\n",
    "б) утроенное обычное скалярное произведение векторов?<br>"
   ]
  },
  {
   "cell_type": "markdown",
   "id": "69842701",
   "metadata": {},
   "source": [
    "__3__ Решение:\n",
    "\n",
    "__Определение__\n",
    "\n",
    "Линейное пространство над полем вещественных чисел называется _евклидовым пространством_, если на нём введено правило, согласно которому каждой упорядоченной паре векторов $x$ и $y$ поставлено в соответствие вещественное число, называемое _скалярным произведением_ и обозначаемое символом $(x, y)$.\n",
    "\n",
    "Указанное правило должно подчиняться четырём аксиомам:<br>\n",
    "1) $(x,y)=(y,x).$<br>\n",
    "2) $(\\lambda x, y)=\\lambda(x, y).$<br>\n",
    "3) $(x_{1}+x_{2},y)=(x_{1},y)+(x_{2},y).$<br>\n",
    "4) $(x, x)\\geq0$, причём $(x,x)=0\\Leftrightarrow x=0.$\n"
   ]
  },
  {
   "cell_type": "markdown",
   "id": "0b81737b",
   "metadata": {},
   "source": [
    "а) произведение длин векторов;<br>\n",
    "\n",
    "Чаще всего длина вектора находится по Евклидовой норме.\n",
    "\n",
    "$$\\left\\|x\\right\\|_{2} = \\sqrt{\\sum_{i}|x_{i}|^{2}}.$$\n",
    "\n",
    "Проверим на соответствие правилам.\n",
    "1) $(x,y)=(y,x).- соответствует$<br> \n",
    "2) $(\\lambda x, y)=\\lambda(x, y). - соответствует$<br>\n",
    "3) $(x_{1}+x_{2},y)=(x_{1},y)+(x_{2},y). - соответствует$<br>\n",
    "4) $(x, x)\\geq0$, причём $(x,x)=0\\Leftrightarrow x=0. - соответствует$"
   ]
  },
  {
   "cell_type": "markdown",
   "id": "2d4e7c56",
   "metadata": {},
   "source": [
    "**Ответ**: линейное пространство будет евклидовым."
   ]
  },
  {
   "cell_type": "markdown",
   "id": "42b59ef2",
   "metadata": {},
   "source": [
    "б) утроенное обычное скалярное произведение векторов?<br>"
   ]
  },
  {
   "cell_type": "markdown",
   "id": "1404ae7a",
   "metadata": {},
   "source": [
    "**Ответ**: линейное пространство будет евклидовым, так как тоже соответствует всем правилам."
   ]
  },
  {
   "cell_type": "markdown",
   "id": "09ebe75e",
   "metadata": {},
   "source": [
    "__4.__ Выясните, какие из нижеперечисленных векторов образуют ортонормированный базис в линейном пространстве $\\mathbb{R}^{3}$:<br>\n",
    "а) $(1,0,0),(0,0,1);$ <br>\n",
    "б) $(1/\\sqrt{2},-1/\\sqrt{2},0),(1/\\sqrt{2},1/\\sqrt{2},0), (0,0,1);$<br>\n",
    "в) $(1/2, -1/2, 0), (0, 1/2, 1/2), (0,0,1);$<br>\n",
    "г) $(1,0,0),(0,1,0),(0,0,1)?$ "
   ]
  },
  {
   "cell_type": "markdown",
   "id": "3a6b54f2",
   "metadata": {},
   "source": [
    "__4.__ Решение\n",
    "\n",
    "\n",
    "__Определение.__ В конечномерном евклидовом пространстве базис $\\{e_{1},e_{2}...,e_{n}\\}$ называется ортонормированным, если:\n",
    "\n",
    "$(e_{i}, e_{j})=0$ $\\forall$ $i\\neq j$ и $(e_{i},e_{i})=1$ $\\forall$ $i\\in[1, n].$"
   ]
  },
  {
   "cell_type": "markdown",
   "id": "7b64edcd",
   "metadata": {},
   "source": [
    "а) $(1,0,0),(0,0,1);$ <br>"
   ]
  },
  {
   "cell_type": "code",
   "execution_count": 79,
   "id": "bb30f7cc",
   "metadata": {},
   "outputs": [],
   "source": [
    "a1 = np.array([1, 0, 0])\n",
    "\n",
    "a2 = np.array([0, 0, 1])"
   ]
  },
  {
   "cell_type": "code",
   "execution_count": 80,
   "id": "6a326ee7",
   "metadata": {},
   "outputs": [
    {
     "data": {
      "text/plain": [
       "0"
      ]
     },
     "execution_count": 80,
     "metadata": {},
     "output_type": "execute_result"
    }
   ],
   "source": [
    "np.dot(a1, a2)"
   ]
  },
  {
   "cell_type": "code",
   "execution_count": 81,
   "id": "e8de4c12",
   "metadata": {},
   "outputs": [
    {
     "data": {
      "text/plain": [
       "1"
      ]
     },
     "execution_count": 81,
     "metadata": {},
     "output_type": "execute_result"
    }
   ],
   "source": [
    "np.dot(a1, a1)"
   ]
  },
  {
   "cell_type": "code",
   "execution_count": 82,
   "id": "56793f57",
   "metadata": {},
   "outputs": [
    {
     "data": {
      "text/plain": [
       "1"
      ]
     },
     "execution_count": 82,
     "metadata": {},
     "output_type": "execute_result"
    }
   ],
   "source": [
    "np.dot(a2, a2)"
   ]
  },
  {
   "cell_type": "markdown",
   "id": "7d9e9440",
   "metadata": {},
   "source": [
    "**Ответ**: вектора $(1,0,0),(0,0,1);$ образуют ортонормированный базис."
   ]
  },
  {
   "cell_type": "markdown",
   "id": "58a90080",
   "metadata": {},
   "source": [
    "б) $(1/\\sqrt{2},-1/\\sqrt{2},0),(1/\\sqrt{2},1/\\sqrt{2},0), (0,0,1);$<br>"
   ]
  },
  {
   "cell_type": "code",
   "execution_count": 83,
   "id": "b3cb6914",
   "metadata": {},
   "outputs": [],
   "source": [
    "b1 = np.array([1 / np.sqrt(2), - 1 / np.sqrt(2), 0])\n",
    "\n",
    "b2 = np.array([1 / np.sqrt(2), 1 / np.sqrt(2), 0])\n",
    "\n",
    "b3 = np.array([0, 0, 1])"
   ]
  },
  {
   "cell_type": "code",
   "execution_count": 84,
   "id": "83751de3",
   "metadata": {},
   "outputs": [
    {
     "data": {
      "text/plain": [
       "0.0"
      ]
     },
     "execution_count": 84,
     "metadata": {},
     "output_type": "execute_result"
    }
   ],
   "source": [
    "np.dot(b1, b2)"
   ]
  },
  {
   "cell_type": "code",
   "execution_count": 85,
   "id": "631e4dad",
   "metadata": {},
   "outputs": [
    {
     "data": {
      "text/plain": [
       "0.0"
      ]
     },
     "execution_count": 85,
     "metadata": {},
     "output_type": "execute_result"
    }
   ],
   "source": [
    "np.dot(b1, b3)"
   ]
  },
  {
   "cell_type": "code",
   "execution_count": 86,
   "id": "982e1078",
   "metadata": {},
   "outputs": [
    {
     "data": {
      "text/plain": [
       "0.0"
      ]
     },
     "execution_count": 86,
     "metadata": {},
     "output_type": "execute_result"
    }
   ],
   "source": [
    "np.dot(b2, b3)"
   ]
  },
  {
   "cell_type": "code",
   "execution_count": 87,
   "id": "724c202a",
   "metadata": {},
   "outputs": [
    {
     "name": "stdout",
     "output_type": "stream",
     "text": [
      "1.0, 1.0, 1.0\n"
     ]
    }
   ],
   "source": [
    "print(f'{norm(b1):.1f}, {norm(b2):.1f}, {norm(b3):.1f}')"
   ]
  },
  {
   "cell_type": "markdown",
   "id": "8ab5f788",
   "metadata": {},
   "source": [
    "**Ответ**: вектора $(1/\\sqrt{2},-1/\\sqrt{2},0),(1/\\sqrt{2},1/\\sqrt{2},0), (0,0,1)$ образуют ортонормированный базис."
   ]
  },
  {
   "cell_type": "markdown",
   "id": "1925a3c2",
   "metadata": {},
   "source": [
    "в) $(1/2, -1/2, 0), (0, 1/2, 1/2), (0,0,1);$<br>"
   ]
  },
  {
   "cell_type": "code",
   "execution_count": 88,
   "id": "279e04c9",
   "metadata": {},
   "outputs": [],
   "source": [
    "v1 = np.array([1 / 2, - 1 / 2, 0])\n",
    "\n",
    "v2 = np.array([0, 1 / 2, 1 / 2])\n",
    "\n",
    "v3 = np.array([0, 0, 1])"
   ]
  },
  {
   "cell_type": "code",
   "execution_count": 89,
   "id": "aa395c0a",
   "metadata": {},
   "outputs": [
    {
     "data": {
      "text/plain": [
       "-0.25"
      ]
     },
     "execution_count": 89,
     "metadata": {},
     "output_type": "execute_result"
    }
   ],
   "source": [
    "np.dot(v1, v2)"
   ]
  },
  {
   "cell_type": "code",
   "execution_count": 90,
   "id": "6d37c12a",
   "metadata": {},
   "outputs": [
    {
     "data": {
      "text/plain": [
       "0.0"
      ]
     },
     "execution_count": 90,
     "metadata": {},
     "output_type": "execute_result"
    }
   ],
   "source": [
    "np.dot(v1, v3)"
   ]
  },
  {
   "cell_type": "code",
   "execution_count": 91,
   "id": "0606ee70",
   "metadata": {},
   "outputs": [
    {
     "data": {
      "text/plain": [
       "0.5"
      ]
     },
     "execution_count": 91,
     "metadata": {},
     "output_type": "execute_result"
    }
   ],
   "source": [
    "np.dot(v2, v3)"
   ]
  },
  {
   "cell_type": "code",
   "execution_count": 92,
   "id": "fbcab6c8",
   "metadata": {},
   "outputs": [
    {
     "name": "stdout",
     "output_type": "stream",
     "text": [
      "0.7, 0.7, 1.0\n"
     ]
    }
   ],
   "source": [
    "print(f'{norm(v1):.1f}, {norm(v2):.1f}, {norm(v3):.1f}')"
   ]
  },
  {
   "cell_type": "markdown",
   "id": "deecf9c9",
   "metadata": {},
   "source": [
    "**Ответ**: не ортогональный, не ортонормированный базис"
   ]
  },
  {
   "cell_type": "markdown",
   "id": "058bd42e",
   "metadata": {},
   "source": [
    "г) $(1,0,0),(0,1,0),(0,0,1)?$ "
   ]
  },
  {
   "cell_type": "code",
   "execution_count": 93,
   "id": "86d0f953",
   "metadata": {},
   "outputs": [],
   "source": [
    "g1 = np.array([1,0,0])\n",
    "\n",
    "g2 = np.array([0,1,0])\n",
    "\n",
    "g3 = np.array([0,0,1])"
   ]
  },
  {
   "cell_type": "code",
   "execution_count": 94,
   "id": "a3d97a5a",
   "metadata": {},
   "outputs": [
    {
     "data": {
      "text/plain": [
       "0"
      ]
     },
     "execution_count": 94,
     "metadata": {},
     "output_type": "execute_result"
    }
   ],
   "source": [
    "np.dot(g1, g2)"
   ]
  },
  {
   "cell_type": "code",
   "execution_count": 95,
   "id": "2babd70f",
   "metadata": {},
   "outputs": [
    {
     "data": {
      "text/plain": [
       "0"
      ]
     },
     "execution_count": 95,
     "metadata": {},
     "output_type": "execute_result"
    }
   ],
   "source": [
    "np.dot(g1, g3)"
   ]
  },
  {
   "cell_type": "code",
   "execution_count": 96,
   "id": "11a70eb1",
   "metadata": {},
   "outputs": [
    {
     "data": {
      "text/plain": [
       "0"
      ]
     },
     "execution_count": 96,
     "metadata": {},
     "output_type": "execute_result"
    }
   ],
   "source": [
    "np.dot(g2, g3)"
   ]
  },
  {
   "cell_type": "code",
   "execution_count": 97,
   "id": "b7ab9350",
   "metadata": {},
   "outputs": [
    {
     "name": "stdout",
     "output_type": "stream",
     "text": [
      "1.0, 1.0, 1.0\n"
     ]
    }
   ],
   "source": [
    "print(f'{norm(g1):.1f}, {norm(g2):.1f}, {norm(g3):.1f}')"
   ]
  },
  {
   "cell_type": "markdown",
   "id": "924ef5fe",
   "metadata": {},
   "source": [
    "**Ответ**: вектора $(1,0,0),(0,1,0),(0,0,1)$ образуют ортонормированный базис."
   ]
  }
 ],
 "metadata": {
  "kernelspec": {
   "display_name": "Python 3 (ipykernel)",
   "language": "python",
   "name": "python3"
  },
  "language_info": {
   "codemirror_mode": {
    "name": "ipython",
    "version": 3
   },
   "file_extension": ".py",
   "mimetype": "text/x-python",
   "name": "python",
   "nbconvert_exporter": "python",
   "pygments_lexer": "ipython3",
   "version": "3.9.7"
  }
 },
 "nbformat": 4,
 "nbformat_minor": 5
}
