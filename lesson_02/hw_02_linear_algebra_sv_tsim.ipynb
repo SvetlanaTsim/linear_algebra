{
 "cells": [
  {
   "cell_type": "markdown",
   "id": "aad0855f",
   "metadata": {},
   "source": [
    "# Урок 2"
   ]
  },
  {
   "cell_type": "markdown",
   "id": "2795949f",
   "metadata": {},
   "source": [
    "## Матрицы и матричные операции. Часть 1"
   ]
  },
  {
   "cell_type": "code",
   "execution_count": 103,
   "id": "b47b510e",
   "metadata": {},
   "outputs": [],
   "source": [
    "import numpy as np"
   ]
  },
  {
   "cell_type": "markdown",
   "id": "dd64604b",
   "metadata": {},
   "source": [
    "## Практическое задание. Часть 1"
   ]
  },
  {
   "cell_type": "markdown",
   "id": "a4dd7c61",
   "metadata": {},
   "source": [
    "__1.__ Установите, какие произведения матриц $AB$ и $BA$ определены, и найдите размерности полученных матриц:\n",
    "\n",
    "   а) $A$ — матрица $4\\times 2$, $B$ — матрица $4\\times 2$;\n",
    "    \n",
    "   б) $A$ — матрица $2\\times 5$, $B$ — матрица $5\\times 3$;\n",
    "    \n",
    "   в) $A$ — матрица $8\\times 3$, $B$ — матрица $3\\times 8$;\n",
    "    \n",
    "   г) $A$ — квадратная матрица $4\\times 4$, $B$ — квадратная матрица $4\\times 4$."
   ]
  },
  {
   "cell_type": "markdown",
   "id": "22b2649e",
   "metadata": {},
   "source": [
    "__Решение__\n",
    "\n",
    "Правильно: \n",
    "\n",
    "_Произведением_ матрицы $A = \\left\\|a_{ij}\\right\\|$, имеющей порядки $m$ и $n$, и матрицы $B = \\left\\|b_{ij}\\right\\|$, включающей порядки $n$ и $k$, называется матрица $C = \\left\\|c_{ij}\\right\\|$ с порядками $m$ и $k$:\n",
    "\n",
    "$$C = \\begin{pmatrix}\n",
    "c_{11} & c_{12} & \\cdots & c_{1k}\\\\ \n",
    "c_{21} & c_{22} & \\cdots & c_{2k}\\\\ \n",
    "\\cdots & \\cdots & \\ddots & \\cdots\\\\ \n",
    "c_{m1} & c_{m2} & \\cdots & c_{mk}\n",
    "\\end{pmatrix},$$\n",
    "\n",
    "наполненная элементами, определяемыми формулой:\n",
    "\n",
    "$$ c_{ij}=\\sum_{p=1}^{n}a_{ip}b_{pj}.$$\n",
    "\n",
    "Матрицу $A$ можно умножить не на любую матрицу $B$: __важно, чтобы число столбцов матрицы $A$ было равно числу строк матрицы $B$.__\n",
    "\n",
    "**Проверим это условие на предложенных вариантах:**\n",
    "\n",
    "   а) $A$ — матрица $4\\times 2$, $B$ — матрица $4\\times 2$; - **AB - 2 не равно 4, перемножить нельзя, BA - тоже нельзя перемножить, так как 2(стобла) не равно количеству строк - 4**\n",
    "    \n",
    "   б) $A$ — матрица $2\\times 5$, $B$ — матрица $5\\times 3$; - **AB - перемножить можно, размерность 2 х 3, BA - перемножить нельзя, так как 3 не равно 2**\n",
    "    \n",
    "   в) $A$ — матрица $8\\times 3$, $B$ — матрица $3\\times 8$; - **AB перемножить можно, размерность 8 х 8, BA перемножить можно, размерность 3 х 3**\n",
    "    \n",
    "   г) $A$ — квадратная матрица $4\\times 4$, $B$ — квадратная матрица $4\\times 4$. - **AB, BA - перемножить можно, размерность 4 х 4**"
   ]
  },
  {
   "cell_type": "markdown",
   "id": "172285b9",
   "metadata": {},
   "source": [
    "__2.__ Найдите сумму и произведение матриц $A=\\begin{pmatrix}\n",
    "1 & -2\\\\ \n",
    "3 & 0\n",
    "\\end{pmatrix}$ и $B=\\begin{pmatrix}\n",
    "4 & -1\\\\ \n",
    "0 & 5\n",
    "\\end{pmatrix}.$"
   ]
  },
  {
   "cell_type": "markdown",
   "id": "e6379f73",
   "metadata": {},
   "source": [
    "__2.__ Решение\n",
    "\n",
    "Сумма: \n",
    "\n",
    "$\\begin{pmatrix}\n",
    "1 & -2\\\\ \n",
    "3 & 0\n",
    "\\end{pmatrix} + \\begin{pmatrix}\n",
    "4 & -1\\\\ \n",
    "0 & 5\n",
    "\\end{pmatrix} = \\begin{pmatrix}\n",
    "5 & -3\\\\ \n",
    "3 & 5\n",
    "\\end{pmatrix}$"
   ]
  },
  {
   "cell_type": "code",
   "execution_count": 104,
   "id": "d5f5c1b5",
   "metadata": {},
   "outputs": [
    {
     "data": {
      "text/plain": [
       "array([[ 5, -3],\n",
       "       [ 3,  5]])"
      ]
     },
     "execution_count": 104,
     "metadata": {},
     "output_type": "execute_result"
    }
   ],
   "source": [
    "#проверка\n",
    "\n",
    "a = np.array([[1, -2], [3, 0]])\n",
    "b = np.array([[4, -1], [0, 5]])\n",
    "a + b"
   ]
  },
  {
   "cell_type": "markdown",
   "id": "6e76d682",
   "metadata": {},
   "source": [
    "$\\begin{pmatrix}\n",
    "1 & -2\\\\ \n",
    "3 & 0\n",
    "\\end{pmatrix} * \\begin{pmatrix}\n",
    "4 & -1\\\\ \n",
    "0 & 5\n",
    "\\end{pmatrix} = \\begin{pmatrix}\n",
    "4 & -11\\\\ \n",
    "12 & -3\n",
    "\\end{pmatrix}$"
   ]
  },
  {
   "cell_type": "code",
   "execution_count": 105,
   "id": "9e5be510",
   "metadata": {},
   "outputs": [
    {
     "data": {
      "text/plain": [
       "array([[  4, -11],\n",
       "       [ 12,  -3]])"
      ]
     },
     "execution_count": 105,
     "metadata": {},
     "output_type": "execute_result"
    }
   ],
   "source": [
    "np.dot(a, b)"
   ]
  },
  {
   "cell_type": "markdown",
   "id": "f8aac18b",
   "metadata": {},
   "source": [
    "найдем BA, так как матрицы квадратные:\n",
    "    \n",
    "$\\begin{pmatrix}\n",
    "4 & -1\\\\ \n",
    "0 & 5\n",
    "\\end{pmatrix} * \\begin{pmatrix}\n",
    "1 & -2\\\\ \n",
    "3 & 0\n",
    "\\end{pmatrix}  = \\begin{pmatrix}\n",
    "1 & -8\\\\ \n",
    "15 & 0\n",
    "\\end{pmatrix}$"
   ]
  },
  {
   "cell_type": "code",
   "execution_count": 106,
   "id": "75ef6654",
   "metadata": {},
   "outputs": [
    {
     "data": {
      "text/plain": [
       "array([[ 1, -8],\n",
       "       [15,  0]])"
      ]
     },
     "execution_count": 106,
     "metadata": {},
     "output_type": "execute_result"
    }
   ],
   "source": [
    "np.dot(b, a)"
   ]
  },
  {
   "cell_type": "markdown",
   "id": "92c4c5af",
   "metadata": {},
   "source": [
    "__3.__ Из закономерностей сложения и умножения матриц на число можно сделать вывод, что матрицы одного размера образуют линейное пространство. Вычислите линейную комбинацию $3A-2B+4C$ для матриц $A=\\begin{pmatrix}\n",
    "1 & 7\\\\ \n",
    "3 & -6\n",
    "\\end{pmatrix}$, $B=\\begin{pmatrix}\n",
    "0 & 5\\\\ \n",
    "2 & -1\n",
    "\\end{pmatrix}$, $C=\\begin{pmatrix}\n",
    "2 & -4\\\\ \n",
    "1 & 1\n",
    "\\end{pmatrix}.$\n",
    "    "
   ]
  },
  {
   "cell_type": "markdown",
   "id": "e74dfd75",
   "metadata": {},
   "source": [
    "**Решение**\n",
    "\n",
    "$3 * \\begin{pmatrix}\n",
    "1 & 7\\\\ \n",
    "3 & -6\n",
    "\\end{pmatrix} - 2 * \\begin{pmatrix}\n",
    "0 & 5\\\\ \n",
    "2 & -1\n",
    "\\end{pmatrix} + 4 *\\begin{pmatrix}\n",
    "2 & -4\\\\ \n",
    "1 & 1\n",
    "\\end{pmatrix} = \\begin{pmatrix}\n",
    "3 & 21\\\\ \n",
    "9 & -18\n",
    "\\end{pmatrix} + \\begin{pmatrix}\n",
    "0 & -10\\\\ \n",
    "-4 & 2\n",
    "\\end{pmatrix} + \\begin{pmatrix}\n",
    "8 & -16\\\\ \n",
    "4 & 4\n",
    "\\end{pmatrix} = \\begin{pmatrix}\n",
    "11 & -5\\\\ \n",
    "9 & -12\n",
    "\\end{pmatrix}$"
   ]
  },
  {
   "cell_type": "code",
   "execution_count": 107,
   "id": "624c3d6a",
   "metadata": {},
   "outputs": [
    {
     "data": {
      "text/plain": [
       "array([[ 11,  -5],\n",
       "       [  9, -12]])"
      ]
     },
     "execution_count": 107,
     "metadata": {},
     "output_type": "execute_result"
    }
   ],
   "source": [
    "#проверка\n",
    "a = np.array([[1, 7], [3, -6]])\n",
    "b = np.array([[0, 5], [2, -1]])\n",
    "c = np.array([[2, -4], [1, 1]])\n",
    "3 * a + (-2) * b + 4 * c"
   ]
  },
  {
   "cell_type": "markdown",
   "id": "8f2ee558",
   "metadata": {},
   "source": [
    "__4.__ Дана матрица $A=\\begin{pmatrix}\n",
    "4 & 1\\\\ \n",
    "5 & -2\\\\ \n",
    "2 & 3\n",
    "\\end{pmatrix}$.\n",
    "Вычислите $AA^{T}$ и $A^{T}A$."
   ]
  },
  {
   "cell_type": "markdown",
   "id": "7482b51e",
   "metadata": {},
   "source": [
    "**Решение**\n",
    "\n",
    "$A^{T} = \\begin{pmatrix}\n",
    "4 & 5 & 2\\\\ \n",
    "1 & -2 & 3\\end{pmatrix}$"
   ]
  },
  {
   "cell_type": "markdown",
   "id": "80d11f14",
   "metadata": {},
   "source": [
    "$AA^{T} = \\begin{pmatrix}\n",
    "4 & 1\\\\ \n",
    "5 & -2\\\\ \n",
    "2 & 3\n",
    "\\end{pmatrix} * \\begin{pmatrix}\n",
    "4 & 5 & 2\\\\ \n",
    "1 & -2 & 3\\end{pmatrix} = \n",
    "\\begin{pmatrix}\n",
    "17 & 18 & 11\\\\ \n",
    "18 & 29 & 4\\\\ \n",
    "11 & 4 & 13\n",
    "\\end{pmatrix}$"
   ]
  },
  {
   "cell_type": "markdown",
   "id": "38eb789c",
   "metadata": {},
   "source": [
    "$A^{T}A = \\begin{pmatrix}\n",
    "4 & 5 & 2\\\\ \n",
    "1 & -2 & 3\\end{pmatrix} * \n",
    "\\begin{pmatrix}\n",
    "4 & 1\\\\ \n",
    "5 & -2\\\\ \n",
    "2 & 3\n",
    "\\end{pmatrix} = \n",
    "\\begin{pmatrix}\n",
    "45 & 0\\\\ \n",
    "0 & 14\n",
    "\\end{pmatrix}\n",
    "$"
   ]
  },
  {
   "cell_type": "code",
   "execution_count": 108,
   "id": "f32b65a8",
   "metadata": {},
   "outputs": [
    {
     "data": {
      "text/plain": [
       "array([[ 4,  5,  2],\n",
       "       [ 1, -2,  3]])"
      ]
     },
     "execution_count": 108,
     "metadata": {},
     "output_type": "execute_result"
    }
   ],
   "source": [
    "A = np.array([[4, 1], [5, -2], [2, 3]])\n",
    "A.T"
   ]
  },
  {
   "cell_type": "code",
   "execution_count": 109,
   "id": "b8930242",
   "metadata": {},
   "outputs": [
    {
     "data": {
      "text/plain": [
       "array([[17, 18, 11],\n",
       "       [18, 29,  4],\n",
       "       [11,  4, 13]])"
      ]
     },
     "execution_count": 109,
     "metadata": {},
     "output_type": "execute_result"
    }
   ],
   "source": [
    "np.dot(A, A.T)"
   ]
  },
  {
   "cell_type": "code",
   "execution_count": 110,
   "id": "18bef0b5",
   "metadata": {},
   "outputs": [
    {
     "data": {
      "text/plain": [
       "array([[45,  0],\n",
       "       [ 0, 14]])"
      ]
     },
     "execution_count": 110,
     "metadata": {},
     "output_type": "execute_result"
    }
   ],
   "source": [
    "np.dot(A.T, A)"
   ]
  },
  {
   "cell_type": "markdown",
   "id": "720a466e",
   "metadata": {},
   "source": [
    "__5*.__ Напишите на Python функцию для перемножения двух произвольных матриц, не используя NumPy."
   ]
  },
  {
   "cell_type": "code",
   "execution_count": 111,
   "id": "1b70d500",
   "metadata": {},
   "outputs": [
    {
     "name": "stdout",
     "output_type": "stream",
     "text": [
      "1 2 3\n",
      "4 5 6\n",
      "7 8 9\n",
      "\n",
      "10 20 30\n",
      "40 50 60\n",
      "70 80 90\n",
      "\n",
      "11 22 33\n",
      "44 55 66\n",
      "77 88 99\n",
      "\n",
      "300 360 420\n",
      "660 810 960\n",
      "1020 1260 1500\n",
      "\n",
      "17 18 11\n",
      "18 29 4\n",
      "11 4 13\n",
      "\n",
      "45 0\n",
      "0 14\n",
      "\n"
     ]
    }
   ],
   "source": [
    "\"\"\"Класс для операция сложения и умножения матриц\"\"\"\n",
    "class Matrix:\n",
    "    def __init__(self, matrix):\n",
    "        self.matrix= matrix\n",
    "\n",
    "    def __str__(self):\n",
    "        return ','.join(map(str, self.matrix)).replace(']', '\\n').replace('[', '').replace(',', '')\n",
    "\n",
    "    def __add__(self, other):\n",
    "        if len(self.matrix) == len(other.matrix):\n",
    "            for row1, row2 in zip(self.matrix, other.matrix):\n",
    "                if len(row1) != len(row2):\n",
    "                    return f'Количество столбцов не равно, эти матрицы нельзя сложить'\n",
    "            result = [[a + b for a, b in zip(row1, row2)] for row1, row2 in zip(self.matrix, other.matrix)]\n",
    "            return ','.join(map(str, result)).replace(']', '\\n').replace('[', '').replace(',', '')\n",
    "        else:\n",
    "            return f'Количество строк не равно, эти матрицы нельзя сложить'\n",
    "        \n",
    "    def __mul__(self, other):\n",
    "        result = []\n",
    "        try: \n",
    "            for row in self.matrix:\n",
    "                row_result = []\n",
    "                for i in range(len(other.matrix[0])):\n",
    "                    num = 0\n",
    "                    for idx, el in enumerate(row):\n",
    "                        num += (el * other.matrix[idx][i])\n",
    "                    row_result.append(num)\n",
    "                result.append(row_result)\n",
    "            return ','.join(map(str, result)).replace(']', '\\n').replace('[', '').replace(',', '')\n",
    "        except:\n",
    "            return f'Умножение матриц данной размерности невозможно'\n",
    "                \n",
    "\n",
    "        \n",
    "m_1 = Matrix([[1, 2, 3], [4, 5, 6], [7, 8, 9]])\n",
    "m_2 = Matrix([[10, 20, 30], [40, 50, 60], [70, 80, 90]])\n",
    "print(m_1)\n",
    "print(m_2)\n",
    "print(m_1 + m_2)\n",
    "        \n",
    "m_3 = Matrix([[4, 1], [5, -2], [2, 3]])\n",
    "m_4 = Matrix([[ 4,  5,  2], [ 1, -2,  3]])\n",
    "\n",
    "print(m_1 * m_2)\n",
    "print(m_3 * m_4)\n",
    "print(m_4 * m_3)"
   ]
  },
  {
   "cell_type": "code",
   "execution_count": 112,
   "id": "c89debd7",
   "metadata": {},
   "outputs": [
    {
     "data": {
      "text/plain": [
       "array([[ 300,  360,  420],\n",
       "       [ 660,  810,  960],\n",
       "       [1020, 1260, 1500]])"
      ]
     },
     "execution_count": 112,
     "metadata": {},
     "output_type": "execute_result"
    }
   ],
   "source": [
    "#проверка работы класса\n",
    "a = np.array([[1, 2, 3], [4, 5, 6], [7, 8, 9]])\n",
    "b = np.array([[10, 20, 30], [40, 50, 60], [70, 80, 90]])\n",
    "np.dot(a, b)"
   ]
  },
  {
   "cell_type": "code",
   "execution_count": 113,
   "id": "93b605a8",
   "metadata": {},
   "outputs": [
    {
     "data": {
      "text/plain": [
       "array([[17, 18, 11],\n",
       "       [18, 29,  4],\n",
       "       [11,  4, 13]])"
      ]
     },
     "execution_count": 113,
     "metadata": {},
     "output_type": "execute_result"
    }
   ],
   "source": [
    "np.dot(A, A.T)"
   ]
  },
  {
   "cell_type": "code",
   "execution_count": 114,
   "id": "d0089e3d",
   "metadata": {},
   "outputs": [
    {
     "data": {
      "text/plain": [
       "array([[45,  0],\n",
       "       [ 0, 14]])"
      ]
     },
     "execution_count": 114,
     "metadata": {},
     "output_type": "execute_result"
    }
   ],
   "source": [
    "np.dot(A.T, A)"
   ]
  },
  {
   "cell_type": "markdown",
   "id": "15a18258",
   "metadata": {},
   "source": [
    "## Практическое задание. Часть 2"
   ]
  },
  {
   "cell_type": "markdown",
   "id": "40130ed6",
   "metadata": {},
   "source": [
    "\n",
    "__1.__ Вычислите определитель:\n",
    "\n",
    "   a)\n",
    "\n",
    "$$\\begin{vmatrix}\n",
    "sinx & -cosx\\\\ \n",
    "cosx & sinx\n",
    "\\end{vmatrix};$$\n",
    "\n",
    "   б)\n",
    "    \n",
    "$$\\begin{vmatrix}\n",
    "4 & 2 & 3\\\\ \n",
    "0 & 5 & 1\\\\ \n",
    "0 & 0 & 9\n",
    "\\end{vmatrix};$$\n",
    "    \n",
    "   в)\n",
    "\n",
    "$$\\begin{vmatrix}\n",
    "1 & 2 & 3\\\\ \n",
    "4 & 5 & 6\\\\ \n",
    "7 & 8 & 9\n",
    "\\end{vmatrix}.$$\n"
   ]
  },
  {
   "cell_type": "markdown",
   "id": "315338b8",
   "metadata": {},
   "source": [
    " __Решение__\n",
    " \n",
    "a)\n",
    "\n",
    "$$\\begin{vmatrix}\n",
    "sinx & -cosx\\\\ \n",
    "cosx & sinx\n",
    "\\end{vmatrix} = sin  ^ 2x + cos^2 x = 1$$\n"
   ]
  },
  {
   "cell_type": "markdown",
   "id": "ee175dc2",
   "metadata": {},
   "source": [
    "б)\n",
    "    \n",
    "$$\\begin{vmatrix}\n",
    "4 & 2 & 3\\\\ \n",
    "0 & 5 & 1\\\\ \n",
    "0 & 0 & 9\n",
    "\\end{vmatrix} = 4 * (5*9 - 1*0) - 2 (0*9 - 1*0) + 3(0*0 - 5*0) = 4 * 45 = 180;$$"
   ]
  },
  {
   "cell_type": "code",
   "execution_count": 115,
   "id": "134add23",
   "metadata": {},
   "outputs": [
    {
     "data": {
      "text/plain": [
       "180.0"
      ]
     },
     "execution_count": 115,
     "metadata": {},
     "output_type": "execute_result"
    }
   ],
   "source": [
    "b = np.array([[4, 2, 3], [0, 5, 1], [0, 0, 9]])\n",
    "np.linalg.det(b)"
   ]
  },
  {
   "cell_type": "markdown",
   "id": "66410b6e",
   "metadata": {},
   "source": [
    "   в)\n",
    "\n",
    "$$\\begin{vmatrix}\n",
    "1 & 2 & 3\\\\ \n",
    "4 & 5 & 6\\\\ \n",
    "7 & 8 & 9\n",
    "\\end{vmatrix} = 1 * (5*9 - 6*8) - 2 * (4*9 - 7*6) + 3*(4*8 - 5*7) = 0$$\n"
   ]
  },
  {
   "cell_type": "code",
   "execution_count": 116,
   "id": "769f1722",
   "metadata": {},
   "outputs": [
    {
     "data": {
      "text/plain": [
       "0.0"
      ]
     },
     "execution_count": 116,
     "metadata": {},
     "output_type": "execute_result"
    }
   ],
   "source": [
    "c = np.array([[1, 2, 3], [4, 5, 6], [7, 8, 9]])\n",
    "round(np.linalg.det(c), 2)"
   ]
  },
  {
   "cell_type": "markdown",
   "id": "b825903c",
   "metadata": {},
   "source": [
    "__2.__ Определитель матрицы $A$ равен $4$. Найдите:\n",
    "\n",
    "   а) $det(A^{2})$;\n",
    "    \n",
    "   б) $det(A^{T})$;\n",
    "    \n",
    "   в) $det(2A)$."
   ]
  },
  {
   "cell_type": "markdown",
   "id": "57b02281",
   "metadata": {},
   "source": [
    "__Решение__\n",
    "\n",
    "а) $det(A^{2})$;\n",
    "\n",
    "Воспользуемся правилом:\n",
    "\n",
    "__9.__ Для двух квадратных матриц одинакового размера:\n",
    "\n",
    "$$det(AB)=detA\\cdot detB.$$\n",
    "\n",
    "$det(A^{2}) = 4 * 4 = 16$;"
   ]
  },
  {
   "cell_type": "markdown",
   "id": "6e1207ad",
   "metadata": {},
   "source": [
    " б) $det(A^{T})$;\n",
    " \n",
    "Воспользуемся правилом:\n",
    "\n",
    "__1.__ Определитель транспонированной матрицы равен определителю исходной:\n",
    "\n",
    "$$detA^{T}=detA.$$\n",
    "\n",
    "$$det(A^{T}) = 4$$"
   ]
  },
  {
   "cell_type": "markdown",
   "id": "522b0db6",
   "metadata": {},
   "source": [
    " в) $det(2A)$.\n",
    "  \n",
    "Воспользуемся правилом:\n",
    "\n",
    "__2.__ Умножение строки или столбца матрицы на число $\\lambda$ приведёт к умножению определителя матрицы на то же число. \n",
    "\n",
    "$$det(2A) = 2 * 4 = 8$$."
   ]
  },
  {
   "cell_type": "markdown",
   "id": "0fb86677",
   "metadata": {},
   "source": [
    "__3.__  Докажите, что матрица:\n",
    "\n",
    "$$\\begin{pmatrix}\n",
    "-2 & 7 & -3\\\\ \n",
    "4 & -14 & 6\\\\ \n",
    "-3 & 7 & 13\n",
    "\\end{pmatrix}$$\n",
    "   \n",
    "вырожденная."
   ]
  },
  {
   "cell_type": "markdown",
   "id": "d55f36d4",
   "metadata": {},
   "source": [
    "__Решение__\n",
    "\n",
    "Матрица является выродженной, если ее определитель равен нулю\n",
    "\n",
    "По правилу: \n",
    "\n",
    "__6.__ Если две строки (столбца) матрицы линейно зависимы, то определитель этой матрицы равен нулю.\n",
    "\n",
    "__Так как вторая строка матрицы равна первой строке, умноженной на -2, то эти две строки линейно зависимы, соответственно определитель матрицы равен нулю, что и означает, что матрица вырожденая__"
   ]
  },
  {
   "cell_type": "markdown",
   "id": "3b2d04c8",
   "metadata": {},
   "source": [
    "Для верности посчитаем определитель матрицы:\n",
    "\n",
    "$$\\begin{vmatrix}\n",
    "-2 & 7 & -3\\\\ \n",
    "4 & -14 & 6\\\\ \n",
    "-3 & 7 & 13\n",
    "\\end{vmatrix} = -2 (-14 * 13 - 6 * 7) - 7 (4 * 13 + 6 * 3) - 3 (4 * 7 - (14 * 3)) = 448 - 490 +42 = 0$$\n",
    "   "
   ]
  },
  {
   "cell_type": "code",
   "execution_count": 117,
   "id": "5039d094",
   "metadata": {},
   "outputs": [
    {
     "data": {
      "text/plain": [
       "0.0"
      ]
     },
     "execution_count": 117,
     "metadata": {},
     "output_type": "execute_result"
    }
   ],
   "source": [
    "c = np.array([[-2, 7, -3], [4, -14, 6],[-3, 7, 13]])\n",
    "np.linalg.det(c)"
   ]
  },
  {
   "cell_type": "markdown",
   "id": "809757d7",
   "metadata": {},
   "source": [
    "__4.__ Найдите ранг матрицы:\n",
    "\n",
    "   а) $\\begin{pmatrix}\n",
    "1 & 2 & 3\\\\ \n",
    "1 & 1 & 1\\\\ \n",
    "2 & 3 & 4\n",
    "\\end{pmatrix};$\n",
    "\n",
    "   б) $\\begin{pmatrix}\n",
    "0 & 0 & 2 & 1\\\\ \n",
    "0 & 0 & 2 & 2\\\\ \n",
    "0 & 0 & 4 & 3\\\\ \n",
    "2 & 3 & 5 & 6\n",
    "\\end{pmatrix}.$"
   ]
  },
  {
   "cell_type": "markdown",
   "id": "4c090222",
   "metadata": {},
   "source": [
    "__Решение__\n",
    "\n",
    "   а) $\\begin{pmatrix}\n",
    "1 & 2 & 3\\\\ \n",
    "1 & 1 & 1\\\\ \n",
    "2 & 3 & 4\n",
    "\\end{pmatrix};$\n",
    "\n",
    "Отнимем из второй строки первую:\n",
    "\n",
    "  $\\begin{pmatrix}\n",
    "1 & 2 & 3\\\\ \n",
    "0 & -1 & -2\\\\ \n",
    "2 & 3 & 4\n",
    "\\end{pmatrix};$\n",
    "\n",
    "Теперь отнимем из третьей строки первую, умноженную на 2\n",
    "\n",
    "   $\\begin{pmatrix}\n",
    "1 & 2 & 3\\\\ \n",
    "0 & -1 & -2\\\\ \n",
    "0 & -1 & -2\n",
    "\\end{pmatrix};$\n",
    "\n",
    "Так как вторая и третья строки равны, удалим третью строку. \n",
    "\n",
    "   $\\begin{pmatrix}\n",
    "1 & 2 & 3\\\\ \n",
    "0 & -1 & -2\n",
    "\\end{pmatrix};$\n",
    "\n",
    "\n",
    "Получилась верхне-треугольная матрица, таким образом, ранг матрицы равен $2$."
   ]
  },
  {
   "cell_type": "code",
   "execution_count": 118,
   "id": "9fe86dd8",
   "metadata": {},
   "outputs": [
    {
     "data": {
      "text/plain": [
       "2"
      ]
     },
     "execution_count": 118,
     "metadata": {},
     "output_type": "execute_result"
    }
   ],
   "source": [
    "#проверка\n",
    "a = np.array([[1, 2, 3], [1, 1, 1],[2, 3, 4]])\n",
    "\n",
    "np.linalg.matrix_rank(a)"
   ]
  },
  {
   "cell_type": "markdown",
   "id": "8028ab87",
   "metadata": {},
   "source": [
    "   б) $\\begin{pmatrix}\n",
    "0 & 0 & 2 & 1\\\\ \n",
    "0 & 0 & 2 & 2\\\\ \n",
    "0 & 0 & 4 & 3\\\\ \n",
    "2 & 3 & 5 & 6\n",
    "\\end{pmatrix}.$\n",
    "\n",
    "Переместим последную строку наверх на место первой\n",
    "\n",
    "$\\begin{pmatrix}\n",
    "2 & 3 & 5 & 6\\\\\n",
    "0 & 0 & 2 & 1\\\\ \n",
    "0 & 0 & 2 & 2\\\\ \n",
    "0 & 0 & 4 & 3\n",
    "\\end{pmatrix}.$\n",
    "\n",
    "Из четвертой строки отнимем вторую, умноженную на 2\n",
    "\n",
    "$\\begin{pmatrix}\n",
    "2 & 3 & 5 & 6\\\\\n",
    "0 & 0 & 2 & 1\\\\ \n",
    "0 & 0 & 2 & 2\\\\ \n",
    "0 & 0 & 0 & 1\n",
    "\\end{pmatrix}.$\n",
    "\n",
    "Получилась верхне-треугольная матрица.\n",
    "\n",
    "Правило:\n",
    "\n",
    "__7.__ Определитель матрицы треугольного вида равен произведению элементов, стоящих на её главной диагонали:\n",
    "\n",
    "В нашем случае произведение (и определитель) равны нулю, так как во второй строке стоит ноль на главной диагонали.\n",
    "\n",
    "Если убрать вторую строку, то ранг матрицы получается равен 3."
   ]
  },
  {
   "cell_type": "code",
   "execution_count": 119,
   "id": "90ba7b2f",
   "metadata": {},
   "outputs": [
    {
     "data": {
      "text/plain": [
       "3"
      ]
     },
     "execution_count": 119,
     "metadata": {},
     "output_type": "execute_result"
    }
   ],
   "source": [
    "#проверка\n",
    "a = np.array([[0, 0, 2, 1], [0, 0, 2, 2], [0, 0, 4, 3], [2, 3, 5, 6]])\n",
    "\n",
    "np.linalg.matrix_rank(a)"
   ]
  }
 ],
 "metadata": {
  "kernelspec": {
   "display_name": "Python 3 (ipykernel)",
   "language": "python",
   "name": "python3"
  },
  "language_info": {
   "codemirror_mode": {
    "name": "ipython",
    "version": 3
   },
   "file_extension": ".py",
   "mimetype": "text/x-python",
   "name": "python",
   "nbconvert_exporter": "python",
   "pygments_lexer": "ipython3",
   "version": "3.9.7"
  }
 },
 "nbformat": 4,
 "nbformat_minor": 5
}
